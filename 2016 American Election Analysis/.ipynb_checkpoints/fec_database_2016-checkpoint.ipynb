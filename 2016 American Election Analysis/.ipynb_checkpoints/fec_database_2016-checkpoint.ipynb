{
 "cells": [
  {
   "cell_type": "markdown",
   "metadata": {
    "slideshow": {
     "slide_type": "slide"
    }
   },
   "source": [
    "# Example: Federal Election Commission Database\n",
    "\n",
    "\n",
    "* Adapted from *Python for Data Analysis* by Wes McKinney, 2nd edition, O'Reilly, 2017.\n",
    "\n",
    "---\n",
    "\n",
    "> Panos Louridas, Associate Professor <br />\n",
    "> Department of Management Science and Technology <br />\n",
    "> Athens University of Economics and Business <br />"
   ]
  },
  {
   "cell_type": "markdown",
   "metadata": {
    "slideshow": {
     "slide_type": "slide"
    }
   },
   "source": [
    "# What Is It?\n",
    "\n",
    "* The US [Federal Election Commission](https://www.fec.gov/) publishes data on contributions to political campaigns. \n",
    "\n",
    "* The data is available for download at https://www.fec.gov/data/browse-data/?tab=bulk-data.\n",
    "\n",
    "* We'll use the data for 2016, which we download from https://www.fec.gov/files/bulk-downloads/2016/indiv16.zip."
   ]
  },
  {
   "cell_type": "code",
   "execution_count": 1,
   "metadata": {
    "slideshow": {
     "slide_type": "slide"
    }
   },
   "outputs": [],
   "source": [
    "import pandas as pd\n",
    "import numpy as np\n",
    "\n",
    "import matplotlib.pyplot as plt\n",
    "\n",
    "import matplotlib\n",
    "\n",
    "from collections import defaultdict\n",
    "\n",
    "%matplotlib inline\n",
    "\n",
    "matplotlib.style.use('ggplot')\n",
    "\n",
    "pd.set_option(\"display.max_columns\", None)"
   ]
  },
  {
   "cell_type": "markdown",
   "metadata": {
    "slideshow": {
     "slide_type": "slide"
    }
   },
   "source": [
    "* We'll get the contributions from individuals for 2016 from https://www.fec.gov/files/bulk-downloads/2016/indiv16.zip.\n",
    "\n",
    "* This includes contributor names, occupation and employer, address, and contribution amount.\n",
    "\n",
    "* We'll also need to read the header file separately, available from https://www.fec.gov/files/bulk-downloads/data_dictionaries/indiv_header_file.csv."
   ]
  },
  {
   "cell_type": "code",
   "execution_count": 2,
   "metadata": {
    "slideshow": {
     "slide_type": "fragment"
    }
   },
   "outputs": [
    {
     "data": {
      "text/html": [
       "<div>\n",
       "<style scoped>\n",
       "    .dataframe tbody tr th:only-of-type {\n",
       "        vertical-align: middle;\n",
       "    }\n",
       "\n",
       "    .dataframe tbody tr th {\n",
       "        vertical-align: top;\n",
       "    }\n",
       "\n",
       "    .dataframe thead th {\n",
       "        text-align: right;\n",
       "    }\n",
       "</style>\n",
       "<table border=\"1\" class=\"dataframe\">\n",
       "  <thead>\n",
       "    <tr style=\"text-align: right;\">\n",
       "      <th></th>\n",
       "      <th>CMTE_ID</th>\n",
       "      <th>AMNDT_IND</th>\n",
       "      <th>RPT_TP</th>\n",
       "      <th>TRANSACTION_PGI</th>\n",
       "      <th>IMAGE_NUM</th>\n",
       "      <th>TRANSACTION_TP</th>\n",
       "      <th>ENTITY_TP</th>\n",
       "      <th>NAME</th>\n",
       "      <th>CITY</th>\n",
       "      <th>STATE</th>\n",
       "      <th>ZIP_CODE</th>\n",
       "      <th>EMPLOYER</th>\n",
       "      <th>OCCUPATION</th>\n",
       "      <th>TRANSACTION_DT</th>\n",
       "      <th>TRANSACTION_AMT</th>\n",
       "      <th>OTHER_ID</th>\n",
       "      <th>TRAN_ID</th>\n",
       "      <th>FILE_NUM</th>\n",
       "      <th>MEMO_CD</th>\n",
       "      <th>MEMO_TEXT</th>\n",
       "      <th>SUB_ID</th>\n",
       "    </tr>\n",
       "  </thead>\n",
       "  <tbody>\n",
       "  </tbody>\n",
       "</table>\n",
       "</div>"
      ],
      "text/plain": [
       "Empty DataFrame\n",
       "Columns: [CMTE_ID, AMNDT_IND, RPT_TP, TRANSACTION_PGI, IMAGE_NUM, TRANSACTION_TP, ENTITY_TP, NAME, CITY, STATE, ZIP_CODE, EMPLOYER, OCCUPATION, TRANSACTION_DT, TRANSACTION_AMT, OTHER_ID, TRAN_ID, FILE_NUM, MEMO_CD, MEMO_TEXT, SUB_ID]\n",
       "Index: []"
      ]
     },
     "execution_count": 2,
     "metadata": {},
     "output_type": "execute_result"
    }
   ],
   "source": [
    "headers_df = pd.read_csv('https://www.fec.gov/files/bulk-downloads/data_dictionaries/indiv_header_file.csv')\n",
    "headers_df"
   ]
  },
  {
   "cell_type": "markdown",
   "metadata": {
    "slideshow": {
     "slide_type": "slide"
    }
   },
   "source": [
    "* This is an empty `DataFrame`, and only the columns are of interest to us.\n",
    "\n",
    "* So we'll just extract them and put them in a list."
   ]
  },
  {
   "cell_type": "code",
   "execution_count": 3,
   "metadata": {
    "slideshow": {
     "slide_type": "fragment"
    }
   },
   "outputs": [
    {
     "data": {
      "text/plain": [
       "['CMTE_ID',\n",
       " 'AMNDT_IND',\n",
       " 'RPT_TP',\n",
       " 'TRANSACTION_PGI',\n",
       " 'IMAGE_NUM',\n",
       " 'TRANSACTION_TP',\n",
       " 'ENTITY_TP',\n",
       " 'NAME',\n",
       " 'CITY',\n",
       " 'STATE',\n",
       " 'ZIP_CODE',\n",
       " 'EMPLOYER',\n",
       " 'OCCUPATION',\n",
       " 'TRANSACTION_DT',\n",
       " 'TRANSACTION_AMT',\n",
       " 'OTHER_ID',\n",
       " 'TRAN_ID',\n",
       " 'FILE_NUM',\n",
       " 'MEMO_CD',\n",
       " 'MEMO_TEXT',\n",
       " 'SUB_ID']"
      ]
     },
     "execution_count": 3,
     "metadata": {},
     "output_type": "execute_result"
    }
   ],
   "source": [
    "headers = headers_df.columns.tolist()\n",
    "headers"
   ]
  },
  {
   "cell_type": "markdown",
   "metadata": {
    "slideshow": {
     "slide_type": "slide"
    }
   },
   "source": [
    "* Then we can read the actual data file.\n",
    "\n",
    "* Note the file is big, so we'll first read the top 10 lines to get an idea of the contents.\n",
    "\n",
    "* `index_col = False` forces pandas to not use the first column as the index."
   ]
  },
  {
   "cell_type": "code",
   "execution_count": 4,
   "metadata": {
    "slideshow": {
     "slide_type": "fragment"
    }
   },
   "outputs": [
    {
     "data": {
      "text/html": [
       "<div>\n",
       "<style scoped>\n",
       "    .dataframe tbody tr th:only-of-type {\n",
       "        vertical-align: middle;\n",
       "    }\n",
       "\n",
       "    .dataframe tbody tr th {\n",
       "        vertical-align: top;\n",
       "    }\n",
       "\n",
       "    .dataframe thead th {\n",
       "        text-align: right;\n",
       "    }\n",
       "</style>\n",
       "<table border=\"1\" class=\"dataframe\">\n",
       "  <thead>\n",
       "    <tr style=\"text-align: right;\">\n",
       "      <th></th>\n",
       "      <th>CMTE_ID</th>\n",
       "      <th>AMNDT_IND</th>\n",
       "      <th>RPT_TP</th>\n",
       "      <th>TRANSACTION_PGI</th>\n",
       "      <th>IMAGE_NUM</th>\n",
       "      <th>TRANSACTION_TP</th>\n",
       "      <th>ENTITY_TP</th>\n",
       "      <th>NAME</th>\n",
       "      <th>CITY</th>\n",
       "      <th>STATE</th>\n",
       "      <th>ZIP_CODE</th>\n",
       "      <th>EMPLOYER</th>\n",
       "      <th>OCCUPATION</th>\n",
       "      <th>TRANSACTION_DT</th>\n",
       "      <th>TRANSACTION_AMT</th>\n",
       "      <th>OTHER_ID</th>\n",
       "      <th>TRAN_ID</th>\n",
       "      <th>FILE_NUM</th>\n",
       "      <th>MEMO_CD</th>\n",
       "      <th>MEMO_TEXT</th>\n",
       "      <th>SUB_ID</th>\n",
       "    </tr>\n",
       "  </thead>\n",
       "  <tbody>\n",
       "    <tr>\n",
       "      <th>0</th>\n",
       "      <td>C00088591</td>\n",
       "      <td>N</td>\n",
       "      <td>M3</td>\n",
       "      <td>P</td>\n",
       "      <td>15970306895</td>\n",
       "      <td>15</td>\n",
       "      <td>IND</td>\n",
       "      <td>BURCH, MARY K.</td>\n",
       "      <td>FALLS CHURCH</td>\n",
       "      <td>VA</td>\n",
       "      <td>220424511</td>\n",
       "      <td>NORTHROP GRUMMAN</td>\n",
       "      <td>VP PROGRAM MANAGEMENT</td>\n",
       "      <td>2132015</td>\n",
       "      <td>500</td>\n",
       "      <td>NaN</td>\n",
       "      <td>2A8EE0688413416FA735</td>\n",
       "      <td>998834</td>\n",
       "      <td>NaN</td>\n",
       "      <td>NaN</td>\n",
       "      <td>4032020151240885624</td>\n",
       "    </tr>\n",
       "    <tr>\n",
       "      <th>1</th>\n",
       "      <td>C00088591</td>\n",
       "      <td>N</td>\n",
       "      <td>M3</td>\n",
       "      <td>P</td>\n",
       "      <td>15970306960</td>\n",
       "      <td>15</td>\n",
       "      <td>IND</td>\n",
       "      <td>KOUNTZ, DONALD E.</td>\n",
       "      <td>FALLS CHURCH</td>\n",
       "      <td>VA</td>\n",
       "      <td>220424511</td>\n",
       "      <td>NORTHROP GRUMMAN</td>\n",
       "      <td>DIR PROGRAMS</td>\n",
       "      <td>2132015</td>\n",
       "      <td>200</td>\n",
       "      <td>NaN</td>\n",
       "      <td>20150211113220-479</td>\n",
       "      <td>998834</td>\n",
       "      <td>NaN</td>\n",
       "      <td>NaN</td>\n",
       "      <td>4032020151240885819</td>\n",
       "    </tr>\n",
       "    <tr>\n",
       "      <th>2</th>\n",
       "      <td>C00088591</td>\n",
       "      <td>N</td>\n",
       "      <td>M3</td>\n",
       "      <td>P</td>\n",
       "      <td>15970306960</td>\n",
       "      <td>15</td>\n",
       "      <td>IND</td>\n",
       "      <td>KOUNTZ, DONALD E.</td>\n",
       "      <td>FALLS CHURCH</td>\n",
       "      <td>VA</td>\n",
       "      <td>220424511</td>\n",
       "      <td>NORTHROP GRUMMAN</td>\n",
       "      <td>DIR PROGRAMS</td>\n",
       "      <td>2272015</td>\n",
       "      <td>200</td>\n",
       "      <td>NaN</td>\n",
       "      <td>20150225112333-476</td>\n",
       "      <td>998834</td>\n",
       "      <td>NaN</td>\n",
       "      <td>NaN</td>\n",
       "      <td>4032020151240885820</td>\n",
       "    </tr>\n",
       "    <tr>\n",
       "      <th>3</th>\n",
       "      <td>C00088591</td>\n",
       "      <td>N</td>\n",
       "      <td>M3</td>\n",
       "      <td>P</td>\n",
       "      <td>15970306915</td>\n",
       "      <td>15</td>\n",
       "      <td>IND</td>\n",
       "      <td>DOSHI, NIMISH M.</td>\n",
       "      <td>FALLS CHURCH</td>\n",
       "      <td>VA</td>\n",
       "      <td>220424511</td>\n",
       "      <td>NORTHROP GRUMMAN</td>\n",
       "      <td>VP AND CFO</td>\n",
       "      <td>2132015</td>\n",
       "      <td>200</td>\n",
       "      <td>NaN</td>\n",
       "      <td>20150309_2943</td>\n",
       "      <td>998834</td>\n",
       "      <td>NaN</td>\n",
       "      <td>NaN</td>\n",
       "      <td>4032020151240885683</td>\n",
       "    </tr>\n",
       "    <tr>\n",
       "      <th>4</th>\n",
       "      <td>C00088591</td>\n",
       "      <td>N</td>\n",
       "      <td>M3</td>\n",
       "      <td>P</td>\n",
       "      <td>15970306915</td>\n",
       "      <td>15</td>\n",
       "      <td>IND</td>\n",
       "      <td>DOSHI, NIMISH M.</td>\n",
       "      <td>FALLS CHURCH</td>\n",
       "      <td>VA</td>\n",
       "      <td>220424511</td>\n",
       "      <td>NORTHROP GRUMMAN</td>\n",
       "      <td>VP AND CFO</td>\n",
       "      <td>2272015</td>\n",
       "      <td>200</td>\n",
       "      <td>NaN</td>\n",
       "      <td>20150224153748-2525</td>\n",
       "      <td>998834</td>\n",
       "      <td>NaN</td>\n",
       "      <td>NaN</td>\n",
       "      <td>4032020151240885684</td>\n",
       "    </tr>\n",
       "  </tbody>\n",
       "</table>\n",
       "</div>"
      ],
      "text/plain": [
       "     CMTE_ID AMNDT_IND RPT_TP TRANSACTION_PGI    IMAGE_NUM  TRANSACTION_TP  \\\n",
       "0  C00088591         N     M3               P  15970306895              15   \n",
       "1  C00088591         N     M3               P  15970306960              15   \n",
       "2  C00088591         N     M3               P  15970306960              15   \n",
       "3  C00088591         N     M3               P  15970306915              15   \n",
       "4  C00088591         N     M3               P  15970306915              15   \n",
       "\n",
       "  ENTITY_TP               NAME          CITY STATE   ZIP_CODE  \\\n",
       "0       IND     BURCH, MARY K.  FALLS CHURCH    VA  220424511   \n",
       "1       IND  KOUNTZ, DONALD E.  FALLS CHURCH    VA  220424511   \n",
       "2       IND  KOUNTZ, DONALD E.  FALLS CHURCH    VA  220424511   \n",
       "3       IND   DOSHI, NIMISH M.  FALLS CHURCH    VA  220424511   \n",
       "4       IND   DOSHI, NIMISH M.  FALLS CHURCH    VA  220424511   \n",
       "\n",
       "           EMPLOYER             OCCUPATION  TRANSACTION_DT  TRANSACTION_AMT  \\\n",
       "0  NORTHROP GRUMMAN  VP PROGRAM MANAGEMENT         2132015              500   \n",
       "1  NORTHROP GRUMMAN           DIR PROGRAMS         2132015              200   \n",
       "2  NORTHROP GRUMMAN           DIR PROGRAMS         2272015              200   \n",
       "3  NORTHROP GRUMMAN             VP AND CFO         2132015              200   \n",
       "4  NORTHROP GRUMMAN             VP AND CFO         2272015              200   \n",
       "\n",
       "   OTHER_ID               TRAN_ID  FILE_NUM  MEMO_CD  MEMO_TEXT  \\\n",
       "0       NaN  2A8EE0688413416FA735    998834      NaN        NaN   \n",
       "1       NaN    20150211113220-479    998834      NaN        NaN   \n",
       "2       NaN    20150225112333-476    998834      NaN        NaN   \n",
       "3       NaN         20150309_2943    998834      NaN        NaN   \n",
       "4       NaN   20150224153748-2525    998834      NaN        NaN   \n",
       "\n",
       "                SUB_ID  \n",
       "0  4032020151240885624  \n",
       "1  4032020151240885819  \n",
       "2  4032020151240885820  \n",
       "3  4032020151240885683  \n",
       "4  4032020151240885684  "
      ]
     },
     "execution_count": 4,
     "metadata": {},
     "output_type": "execute_result"
    }
   ],
   "source": [
    "fec = pd.read_csv('Data/indiv16/itcont.txt', sep=\"|\", index_col=False, nrows=10, names=headers)\n",
    "fec.head(5)"
   ]
  },
  {
   "cell_type": "markdown",
   "metadata": {
    "slideshow": {
     "slide_type": "slide"
    }
   },
   "source": [
    "* We only care to treat the contribution amount as a number; all the rest we can treat as strings.\n",
    "\n",
    "* We'll use a dictionary to specify the types for the columns; this will ease reading of the full data."
   ]
  },
  {
   "cell_type": "code",
   "execution_count": 5,
   "metadata": {
    "slideshow": {
     "slide_type": "fragment"
    }
   },
   "outputs": [
    {
     "data": {
      "text/plain": [
       "{'CMTE_ID': str,\n",
       " 'AMNDT_IND': str,\n",
       " 'RPT_TP': str,\n",
       " 'TRANSACTION_PGI': str,\n",
       " 'IMAGE_NUM': str,\n",
       " 'TRANSACTION_TP': str,\n",
       " 'ENTITY_TP': str,\n",
       " 'NAME': str,\n",
       " 'CITY': str,\n",
       " 'STATE': str,\n",
       " 'ZIP_CODE': str,\n",
       " 'EMPLOYER': str,\n",
       " 'OCCUPATION': str,\n",
       " 'TRANSACTION_DT': str,\n",
       " 'TRANSACTION_AMT': float,\n",
       " 'OTHER_ID': str,\n",
       " 'TRAN_ID': str,\n",
       " 'FILE_NUM': str,\n",
       " 'MEMO_CD': str,\n",
       " 'MEMO_TEXT': str,\n",
       " 'SUB_ID': str}"
      ]
     },
     "execution_count": 5,
     "metadata": {},
     "output_type": "execute_result"
    }
   ],
   "source": [
    "data_types = { header: np.str for header in headers }\n",
    "data_types['TRANSACTION_AMT'] = np.float\n",
    "data_types"
   ]
  },
  {
   "cell_type": "markdown",
   "metadata": {
    "slideshow": {
     "slide_type": "slide"
    }
   },
   "source": [
    "* And here we go with the full data."
   ]
  },
  {
   "cell_type": "code",
   "execution_count": null,
   "metadata": {
    "slideshow": {
     "slide_type": "fragment"
    }
   },
   "outputs": [],
   "source": [
    "fec = pd.read_csv('Data/indiv16/itcont.txt', \n",
    "                  sep=\"|\", \n",
    "                  index_col=False, \n",
    "                  names=headers,\n",
    "                  dtype=data_types)\n",
    "\n",
    "print(fec.shape)\n",
    "fec.sample(10)"
   ]
  },
  {
   "cell_type": "markdown",
   "metadata": {
    "slideshow": {
     "slide_type": "slide"
    }
   },
   "source": [
    "* There is no information on which candidate a donation goes to: the only relevant information is the committee.\n",
    "\n",
    "* So, we will need to read also the committee master file from https://www.fec.gov/files/bulk-downloads/2016/cm16.zip.\n",
    "\n",
    "* As before, we'll get the corresponding header file from https://www.fec.gov/data/browse-data/files/bulk-downloads/data_dictionaries/cm_header_file.csv."
   ]
  },
  {
   "cell_type": "code",
   "execution_count": null,
   "metadata": {
    "slideshow": {
     "slide_type": "fragment"
    }
   },
   "outputs": [],
   "source": [
    "cm_headers_df =  pd.read_csv(\n",
    "    'https://www.fec.gov/data/browse-data/files/bulk-downloads/data_dictionaries/cm_header_file.csv')\n",
    "cm_headers_df"
   ]
  },
  {
   "cell_type": "markdown",
   "metadata": {
    "slideshow": {
     "slide_type": "slide"
    }
   },
   "source": [
    "* Again, we'll extract the columns and put them in a list."
   ]
  },
  {
   "cell_type": "code",
   "execution_count": null,
   "metadata": {
    "slideshow": {
     "slide_type": "fragment"
    }
   },
   "outputs": [],
   "source": [
    "cm_headers = cm_headers_df.columns.tolist()\n",
    "cm_headers"
   ]
  },
  {
   "cell_type": "markdown",
   "metadata": {
    "slideshow": {
     "slide_type": "slide"
    }
   },
   "source": [
    "* Having the headers, we read the actual data."
   ]
  },
  {
   "cell_type": "code",
   "execution_count": null,
   "metadata": {
    "slideshow": {
     "slide_type": "fragment"
    }
   },
   "outputs": [],
   "source": [
    "cm = pd.read_csv('https://www.fec.gov/files/bulk-downloads/2016/cm16.zip', \n",
    "                  sep=\"|\", \n",
    "                  index_col=False, \n",
    "                  names=cm_headers)\n",
    "print(cm.shape)\n",
    "cm.head(5)"
   ]
  },
  {
   "cell_type": "markdown",
   "metadata": {
    "slideshow": {
     "slide_type": "slide"
    }
   },
   "source": [
    "* We merge the committee information with the contributions information."
   ]
  },
  {
   "cell_type": "code",
   "execution_count": null,
   "metadata": {
    "slideshow": {
     "slide_type": "fragment"
    }
   },
   "outputs": [],
   "source": [
    "fec = pd.merge(fec, \n",
    "               cm[['CMTE_ID', 'CMTE_NM', 'CAND_ID']], \n",
    "               on='CMTE_ID', \n",
    "               how='inner')\n",
    "\n",
    "print(fec.shape)\n",
    "fec.head(5)"
   ]
  },
  {
   "cell_type": "markdown",
   "metadata": {
    "slideshow": {
     "slide_type": "slide"
    }
   },
   "source": [
    "* Having read the committees file, we can read the candidates file to get the full picture of which donation goes to whom.\n",
    "\n",
    "* So, we will need to read also the candidate master file from https://www.fec.gov/files/bulk-downloads/2016/cn16.zip.\n",
    "\n",
    "* And, as before, we'll get the corresponding header file from https://www.fec.gov/data/browse-data/files/bulk-downloads/data_dictionaries/cn_header_file.csv.\n"
   ]
  },
  {
   "cell_type": "code",
   "execution_count": null,
   "metadata": {
    "slideshow": {
     "slide_type": "fragment"
    }
   },
   "outputs": [],
   "source": [
    "cn_headers_df = pd.read_csv(\n",
    "    'https://www.fec.gov/data/browse-data/files/bulk-downloads/data_dictionaries/cn_header_file.csv')\n",
    "\n",
    "cn_headers = cn_headers_df.columns.tolist()\n",
    "cn_headers"
   ]
  },
  {
   "cell_type": "markdown",
   "metadata": {
    "slideshow": {
     "slide_type": "slide"
    }
   },
   "source": [
    "* Then we read the full candidates data."
   ]
  },
  {
   "cell_type": "code",
   "execution_count": null,
   "metadata": {
    "slideshow": {
     "slide_type": "fragment"
    }
   },
   "outputs": [],
   "source": [
    "cn = pd.read_csv('https://www.fec.gov/files/bulk-downloads/2016/cn16.zip', \n",
    "                  sep=\"|\", \n",
    "                  index_col=False, \n",
    "                  names=cn_headers)\n",
    "cn.head(5)"
   ]
  },
  {
   "cell_type": "markdown",
   "metadata": {
    "slideshow": {
     "slide_type": "slide"
    }
   },
   "source": [
    "* Because there are all kinds of candidates, for different kinds of elections, we'll select only those running for president in the 2016 election.\n",
    "\n",
    "* The value `'P'` for the column `CAND_OFFICE` means that the candidate runs for president.\n",
    "\n",
    "* The value `'C'` for the column `CAND_STATUS` means 'statutory candidate'; apparently, that's what we want.\n",
    "\n",
    "* For more details see the [data description](https://www.fec.gov/campaign-finance-data/contributions-individuals-file-description/)."
   ]
  },
  {
   "cell_type": "code",
   "execution_count": null,
   "metadata": {
    "scrolled": true,
    "slideshow": {
     "slide_type": "fragment"
    }
   },
   "outputs": [],
   "source": [
    "cn = cn.loc[(cn['CAND_ELECTION_YR'] == 2016) & (cn['CAND_OFFICE'] == 'P') & (cn['CAND_STATUS'] == 'C')]\n",
    "print(cn.shape)\n",
    "cn.head(5)"
   ]
  },
  {
   "cell_type": "markdown",
   "metadata": {
    "slideshow": {
     "slide_type": "slide"
    }
   },
   "source": [
    "* We merge all the information on contributions, committees, and candidates."
   ]
  },
  {
   "cell_type": "code",
   "execution_count": null,
   "metadata": {
    "slideshow": {
     "slide_type": "fragment"
    }
   },
   "outputs": [],
   "source": [
    "fec = pd.merge(fec, \n",
    "               cn[['CAND_ID', 'CAND_NAME', 'CAND_PTY_AFFILIATION']], \n",
    "               on='CAND_ID',\n",
    "               how='inner')\n",
    "\n",
    "print(fec.shape)\n",
    "fec.head(5)"
   ]
  },
  {
   "cell_type": "markdown",
   "metadata": {
    "slideshow": {
     "slide_type": "slide"
    }
   },
   "source": [
    "* Let'see a single row:\n"
   ]
  },
  {
   "cell_type": "code",
   "execution_count": null,
   "metadata": {
    "slideshow": {
     "slide_type": "fragment"
    }
   },
   "outputs": [],
   "source": [
    "fec.loc[123456]"
   ]
  },
  {
   "cell_type": "markdown",
   "metadata": {
    "slideshow": {
     "slide_type": "slide"
    }
   },
   "source": [
    "* We can check the donations by party affiliation."
   ]
  },
  {
   "cell_type": "code",
   "execution_count": null,
   "metadata": {
    "slideshow": {
     "slide_type": "fragment"
    }
   },
   "outputs": [],
   "source": [
    "fec['CAND_PTY_AFFILIATION'].value_counts()"
   ]
  },
  {
   "cell_type": "markdown",
   "metadata": {
    "slideshow": {
     "slide_type": "slide"
    }
   },
   "source": [
    "* However, this includes both contributions and refunds."
   ]
  },
  {
   "cell_type": "code",
   "execution_count": null,
   "metadata": {
    "slideshow": {
     "slide_type": "fragment"
    }
   },
   "outputs": [],
   "source": [
    "(fec['TRANSACTION_AMT'] > 0).value_counts()"
   ]
  },
  {
   "cell_type": "markdown",
   "metadata": {
    "slideshow": {
     "slide_type": "slide"
    }
   },
   "source": [
    "* So, we’ll restrict the data set to positive contributions."
   ]
  },
  {
   "cell_type": "code",
   "execution_count": null,
   "metadata": {
    "slideshow": {
     "slide_type": "fragment"
    }
   },
   "outputs": [],
   "source": [
    "fec = fec[fec['TRANSACTION_AMT'] > 0]"
   ]
  },
  {
   "cell_type": "markdown",
   "metadata": {
    "slideshow": {
     "slide_type": "slide"
    }
   },
   "source": [
    "* Who exactly are the candidates?"
   ]
  },
  {
   "cell_type": "code",
   "execution_count": null,
   "metadata": {
    "slideshow": {
     "slide_type": "fragment"
    }
   },
   "outputs": [],
   "source": [
    "fec['CAND_NAME'].unique()"
   ]
  },
  {
   "cell_type": "markdown",
   "metadata": {
    "slideshow": {
     "slide_type": "slide"
    }
   },
   "source": [
    "* We see that Trump's and Clinton's entries contain also their candidates for Vice President.\n",
    "\n",
    "* Even worse, Trump's entry contains a space at the end: `'TRUMP, DONALD J. / MICHAEL R. PENCE '`!\n",
    "\n",
    "* To make things easier for us, we'll shorten them."
   ]
  },
  {
   "cell_type": "code",
   "execution_count": null,
   "metadata": {
    "slideshow": {
     "slide_type": "fragment"
    }
   },
   "outputs": [],
   "source": [
    "fec.loc[fec['CAND_NAME'] == 'TRUMP, DONALD J. / MICHAEL R. PENCE ', 'CAND_NAME'] = 'TRUMP, DONALD J.'\n",
    "fec.loc[fec['CAND_NAME'] == 'CLINTON, HILLARY RODHAM / TIMOTHY MICHAEL KAINE', 'CAND_NAME'] = 'CLINTON, HILLARY RODHAM'"
   ]
  },
  {
   "cell_type": "markdown",
   "metadata": {
    "slideshow": {
     "slide_type": "slide"
    }
   },
   "source": [
    "* Apart from the candidates, let's check the parties."
   ]
  },
  {
   "cell_type": "code",
   "execution_count": 21,
   "metadata": {
    "slideshow": {
     "slide_type": "fragment"
    }
   },
   "outputs": [
    {
     "data": {
      "text/plain": [
       "array(['REP', 'DEM', 'IND', 'NNE', 'GRE', 'UNK', 'LIB', 'UN', 'CON',\n",
       "       'AMP', 'NPA'], dtype=object)"
      ]
     },
     "execution_count": 21,
     "metadata": {},
     "output_type": "execute_result"
    }
   ],
   "source": [
    "fec['CAND_PTY_AFFILIATION'].unique()"
   ]
  },
  {
   "cell_type": "markdown",
   "metadata": {
    "slideshow": {
     "slide_type": "slide"
    }
   },
   "source": [
    "* We'll restrict our attention to the two main parties."
   ]
  },
  {
   "cell_type": "code",
   "execution_count": 22,
   "metadata": {
    "slideshow": {
     "slide_type": "fragment"
    }
   },
   "outputs": [],
   "source": [
    "fec = fec[fec['CAND_PTY_AFFILIATION'].isin(['DEM', 'REP'])]"
   ]
  },
  {
   "cell_type": "markdown",
   "metadata": {
    "slideshow": {
     "slide_type": "slide"
    }
   },
   "source": [
    "* Since Donald Trump and Hillary Clinton were the main two candidates, we’ll prepare a subset that has contributions to their campaigns only."
   ]
  },
  {
   "cell_type": "code",
   "execution_count": 23,
   "metadata": {
    "slideshow": {
     "slide_type": "fragment"
    }
   },
   "outputs": [],
   "source": [
    "fec_trcl = fec.loc[fec['CAND_NAME'].isin(['TRUMP, DONALD J.', 'CLINTON, HILLARY RODHAM'])].copy()"
   ]
  },
  {
   "cell_type": "markdown",
   "metadata": {
    "slideshow": {
     "slide_type": "slide"
    }
   },
   "source": [
    "## Biggest Donors\n",
    "\n",
    "* Our first task will be to get the biggest donors per candidate.\n",
    "\n",
    "* It turns out that this is straightforward to do with a `groupby`."
   ]
  },
  {
   "cell_type": "code",
   "execution_count": 24,
   "metadata": {
    "slideshow": {
     "slide_type": "slide"
    }
   },
   "outputs": [
    {
     "data": {
      "text/html": [
       "<div>\n",
       "<style scoped>\n",
       "    .dataframe tbody tr th:only-of-type {\n",
       "        vertical-align: middle;\n",
       "    }\n",
       "\n",
       "    .dataframe tbody tr th {\n",
       "        vertical-align: top;\n",
       "    }\n",
       "\n",
       "    .dataframe thead th {\n",
       "        text-align: right;\n",
       "    }\n",
       "</style>\n",
       "<table border=\"1\" class=\"dataframe\">\n",
       "  <thead>\n",
       "    <tr style=\"text-align: right;\">\n",
       "      <th></th>\n",
       "      <th>TRANSACTION_AMT</th>\n",
       "    </tr>\n",
       "    <tr>\n",
       "      <th>NAME</th>\n",
       "      <th></th>\n",
       "    </tr>\n",
       "  </thead>\n",
       "  <tbody>\n",
       "    <tr>\n",
       "      <th>CLINTON, HILLARY RODHAM</th>\n",
       "      <td>1450306.0</td>\n",
       "    </tr>\n",
       "    <tr>\n",
       "      <th>RUNYAN, R. BRADLEY</th>\n",
       "      <td>35100.0</td>\n",
       "    </tr>\n",
       "    <tr>\n",
       "      <th>SMITH, MICHAEL</th>\n",
       "      <td>33909.0</td>\n",
       "    </tr>\n",
       "    <tr>\n",
       "      <th>BURNS, URSULA</th>\n",
       "      <td>32400.0</td>\n",
       "    </tr>\n",
       "    <tr>\n",
       "      <th>FRIEDMAN, JANELLE</th>\n",
       "      <td>32400.0</td>\n",
       "    </tr>\n",
       "    <tr>\n",
       "      <th>...</th>\n",
       "      <td>...</td>\n",
       "    </tr>\n",
       "    <tr>\n",
       "      <th>SWEIDAN, JULIE</th>\n",
       "      <td>1.0</td>\n",
       "    </tr>\n",
       "    <tr>\n",
       "      <th>CLOETER, ANNA</th>\n",
       "      <td>1.0</td>\n",
       "    </tr>\n",
       "    <tr>\n",
       "      <th>SINGER, JEANNE</th>\n",
       "      <td>1.0</td>\n",
       "    </tr>\n",
       "    <tr>\n",
       "      <th>SMITH, DANNY</th>\n",
       "      <td>1.0</td>\n",
       "    </tr>\n",
       "    <tr>\n",
       "      <th>SHEARER, MARCIA</th>\n",
       "      <td>1.0</td>\n",
       "    </tr>\n",
       "  </tbody>\n",
       "</table>\n",
       "<p>378847 rows × 1 columns</p>\n",
       "</div>"
      ],
      "text/plain": [
       "                         TRANSACTION_AMT\n",
       "NAME                                    \n",
       "CLINTON, HILLARY RODHAM        1450306.0\n",
       "RUNYAN, R. BRADLEY               35100.0\n",
       "SMITH, MICHAEL                   33909.0\n",
       "BURNS, URSULA                    32400.0\n",
       "FRIEDMAN, JANELLE                32400.0\n",
       "...                                  ...\n",
       "SWEIDAN, JULIE                       1.0\n",
       "CLOETER, ANNA                        1.0\n",
       "SINGER, JEANNE                       1.0\n",
       "SMITH, DANNY                         1.0\n",
       "SHEARER, MARCIA                      1.0\n",
       "\n",
       "[378847 rows x 1 columns]"
      ]
     },
     "execution_count": 24,
     "metadata": {},
     "output_type": "execute_result"
    }
   ],
   "source": [
    "fec_trcl[fec_trcl['CAND_NAME'] == 'CLINTON, HILLARY RODHAM']\\\n",
    "    .groupby('NAME').sum('TRANSACTION_AMT')\\\n",
    "    .sort_values(by='TRANSACTION_AMT', ascending=False)"
   ]
  },
  {
   "cell_type": "code",
   "execution_count": 25,
   "metadata": {
    "slideshow": {
     "slide_type": "slide"
    }
   },
   "outputs": [
    {
     "data": {
      "text/html": [
       "<div>\n",
       "<style scoped>\n",
       "    .dataframe tbody tr th:only-of-type {\n",
       "        vertical-align: middle;\n",
       "    }\n",
       "\n",
       "    .dataframe tbody tr th {\n",
       "        vertical-align: top;\n",
       "    }\n",
       "\n",
       "    .dataframe thead th {\n",
       "        text-align: right;\n",
       "    }\n",
       "</style>\n",
       "<table border=\"1\" class=\"dataframe\">\n",
       "  <thead>\n",
       "    <tr style=\"text-align: right;\">\n",
       "      <th></th>\n",
       "      <th>TRANSACTION_AMT</th>\n",
       "    </tr>\n",
       "    <tr>\n",
       "      <th>NAME</th>\n",
       "      <th></th>\n",
       "    </tr>\n",
       "  </thead>\n",
       "  <tbody>\n",
       "    <tr>\n",
       "      <th>TRUMP, DONALD J</th>\n",
       "      <td>10033637.0</td>\n",
       "    </tr>\n",
       "    <tr>\n",
       "      <th>TRUMP, DONALD J.</th>\n",
       "      <td>6532038.0</td>\n",
       "    </tr>\n",
       "    <tr>\n",
       "      <th>TRUMP, DONALD J J.</th>\n",
       "      <td>2067482.0</td>\n",
       "    </tr>\n",
       "    <tr>\n",
       "      <th>BOCH, ERNIE</th>\n",
       "      <td>171172.0</td>\n",
       "    </tr>\n",
       "    <tr>\n",
       "      <th>TREIBEL, RANDY</th>\n",
       "      <td>52352.0</td>\n",
       "    </tr>\n",
       "    <tr>\n",
       "      <th>...</th>\n",
       "      <td>...</td>\n",
       "    </tr>\n",
       "    <tr>\n",
       "      <th>BOWLEY, PATRICK</th>\n",
       "      <td>5.0</td>\n",
       "    </tr>\n",
       "    <tr>\n",
       "      <th>HANLON, KIMBERLY</th>\n",
       "      <td>5.0</td>\n",
       "    </tr>\n",
       "    <tr>\n",
       "      <th>CLENDENEN, CYNTHIA MRS.</th>\n",
       "      <td>5.0</td>\n",
       "    </tr>\n",
       "    <tr>\n",
       "      <th>MARTINEZ, DOLORES</th>\n",
       "      <td>5.0</td>\n",
       "    </tr>\n",
       "    <tr>\n",
       "      <th>SPITZER, JOYCE</th>\n",
       "      <td>2.0</td>\n",
       "    </tr>\n",
       "  </tbody>\n",
       "</table>\n",
       "<p>86416 rows × 1 columns</p>\n",
       "</div>"
      ],
      "text/plain": [
       "                         TRANSACTION_AMT\n",
       "NAME                                    \n",
       "TRUMP, DONALD J               10033637.0\n",
       "TRUMP, DONALD J.               6532038.0\n",
       "TRUMP, DONALD J J.             2067482.0\n",
       "BOCH, ERNIE                     171172.0\n",
       "TREIBEL, RANDY                   52352.0\n",
       "...                                  ...\n",
       "BOWLEY, PATRICK                      5.0\n",
       "HANLON, KIMBERLY                     5.0\n",
       "CLENDENEN, CYNTHIA MRS.              5.0\n",
       "MARTINEZ, DOLORES                    5.0\n",
       "SPITZER, JOYCE                       2.0\n",
       "\n",
       "[86416 rows x 1 columns]"
      ]
     },
     "execution_count": 25,
     "metadata": {},
     "output_type": "execute_result"
    }
   ],
   "source": [
    "fec_trcl[fec_trcl['CAND_NAME'] == 'TRUMP, DONALD J.']\\\n",
    "    .groupby('NAME').sum('TRANSACTION_AMT')\\\n",
    "    .sort_values(by='TRANSACTION_AMT', ascending=False)"
   ]
  },
  {
   "cell_type": "markdown",
   "metadata": {
    "slideshow": {
     "slide_type": "slide"
    }
   },
   "source": [
    "## Donation Statistics by Occupation and Employer\n",
    "\n",
    "* Donations by occupation is another oft-studied statistic. \n",
    "\n",
    "* For example, lawyers (attorneys) tend to donate more money to Democrats, while business executives tend to donate more to Republicans.\n",
    "\n",
    "* We can check that ourselves.\n",
    "\n",
    "* But first let's see the overall picture."
   ]
  },
  {
   "cell_type": "markdown",
   "metadata": {
    "slideshow": {
     "slide_type": "slide"
    }
   },
   "source": [
    "* How many occupations are there?"
   ]
  },
  {
   "cell_type": "code",
   "execution_count": 26,
   "metadata": {
    "slideshow": {
     "slide_type": "fragment"
    }
   },
   "outputs": [
    {
     "data": {
      "text/plain": [
       "(59270,)"
      ]
     },
     "execution_count": 26,
     "metadata": {},
     "output_type": "execute_result"
    }
   ],
   "source": [
    "fec_trcl['OCCUPATION'].unique().shape"
   ]
  },
  {
   "cell_type": "markdown",
   "metadata": {
    "slideshow": {
     "slide_type": "slide"
    }
   },
   "source": [
    "* Which ones are the most important?"
   ]
  },
  {
   "cell_type": "code",
   "execution_count": 27,
   "metadata": {
    "slideshow": {
     "slide_type": "fragment"
    }
   },
   "outputs": [
    {
     "data": {
      "text/plain": [
       "RETIRED               679988\n",
       "ATTORNEY              103558\n",
       "TEACHER                56514\n",
       "PROFESSOR              52798\n",
       "PHYSICIAN              51292\n",
       "HOMEMAKER              44264\n",
       "NOT EMPLOYED           40393\n",
       "CONSULTANT             40339\n",
       "LAWYER                 31417\n",
       "MANAGER                23694\n",
       "WRITER                 22811\n",
       "ENGINEER               21730\n",
       "SALES                  20618\n",
       "STUDENT                15822\n",
       "REGISTERED NURSE       15054\n",
       "EDUCATOR               14114\n",
       "OWNER                  14038\n",
       "SOFTWARE ENGINEER      13684\n",
       "PSYCHOLOGIST           13230\n",
       "CEO                    13148\n",
       "ARTIST                 12873\n",
       "RN                     11495\n",
       "MARKETING              11081\n",
       "SOCIAL WORKER          10530\n",
       "ACCOUNTANT             10436\n",
       "REALTOR                10341\n",
       "PRESIDENT              10207\n",
       "DIRECTOR               10141\n",
       "EXECUTIVE               9551\n",
       "ADMINISTRATOR           9453\n",
       "BUSINESS OWNER          8921\n",
       "DISABLED                8887\n",
       "PROJECT MANAGER         8672\n",
       "SCIENTIST               7948\n",
       "NURSE                   7627\n",
       "PSYCHOTHERAPIST         7337\n",
       "REAL ESTATE             7330\n",
       "ARCHITECT               7270\n",
       "EXECUTIVE DIRECTOR      6850\n",
       "DESIGNER                6584\n",
       "Name: OCCUPATION, dtype: int64"
      ]
     },
     "execution_count": 27,
     "metadata": {},
     "output_type": "execute_result"
    }
   ],
   "source": [
    "fec_trcl['OCCUPATION'].value_counts()[:40]"
   ]
  },
  {
   "cell_type": "markdown",
   "metadata": {
    "slideshow": {
     "slide_type": "slide"
    }
   },
   "source": [
    "* What about the least common ones?"
   ]
  },
  {
   "cell_type": "code",
   "execution_count": 31,
   "metadata": {
    "slideshow": {
     "slide_type": "fragment"
    }
   },
   "outputs": [
    {
     "data": {
      "text/plain": [
       "SENIOR ADVISOR, ACCOUNT MANAGEMENT        1\n",
       "MANAGING PARTNER/ ATTORNEY                1\n",
       "MEDICAL PHYSICS                           1\n",
       "STERLING CABINETS INC                     1\n",
       "FOUNDATION EXECUTIVE DIRECTOR             1\n",
       "ACCOUNTS EXECUTIVE                        1\n",
       "SWIMMING POOL CONSTRUCTION                1\n",
       "DIRECTOR OF ESTATES BRUCKHEIMER PROPER    1\n",
       "REALTOR/ US MISSIONARY                    1\n",
       "VICE PRESIDENT OF STRATEGY AND PRODUCT    1\n",
       "SVP FINANCE & INVESTOR RELATIONS          1\n",
       "PRODUCE MARKETER                          1\n",
       "FOUNDER, LAWYER                           1\n",
       "HEAD, EDUCATION AND GIRLS PROGRAMS        1\n",
       "BUSINESS MARKETING MANAGER                1\n",
       "AML/SANCTIONS COMPLIANCE                  1\n",
       "COP                                       1\n",
       "RXECUTIVE                                 1\n",
       "CORPORATION PRESIDENT                     1\n",
       "SENIOR COMMUNICATIONS TECHNICIAN          1\n",
       "VP NEW BUSINESS DEVELOPMENT - ASIA PAC    1\n",
       "EDUCATION/MARKETING                       1\n",
       "BUSINESS OWNER/PUD COMMISSIONER           1\n",
       "SOFTPLC CORPORATION                       1\n",
       "MANUFACTURERS SALES                       1\n",
       "NURSERY                                   1\n",
       "CFO/SMALL BUSINESS OWNER                  1\n",
       "JBAYBICK CORP                             1\n",
       "CHARI                                     1\n",
       "ATTORNEY; CLINICAL PSYCHOLOGIST           1\n",
       "RE/MAX PLATINUM                           1\n",
       "CITY DESIGN                               1\n",
       "STOCK INVESTOR                            1\n",
       "BIOTECH ENTREPRENEUR                      1\n",
       "INFORMATION & PUBLIC RELATIONS            1\n",
       "LEAD SUPPLY COORDINATOR                   1\n",
       "FEDERAL OFFICIAL                          1\n",
       "PROGRAM QUALITY SPECIALIST                1\n",
       "EXECUTIVE/SCIENTIST                       1\n",
       "EUREKA STONE QUARRY                       1\n",
       "Name: OCCUPATION, dtype: int64"
      ]
     },
     "execution_count": 31,
     "metadata": {},
     "output_type": "execute_result"
    }
   ],
   "source": [
    "fec_trcl['OCCUPATION'].value_counts()[-40:]"
   ]
  },
  {
   "cell_type": "markdown",
   "metadata": {
    "slideshow": {
     "slide_type": "slide"
    }
   },
   "source": [
    "* A problem that we face, as in all real-world datasets, is that data is not that clear or consistent.\n",
    "\n",
    "* For example, by checking through the data we can discover that we have both `CEO` and `C.E.O.` and `C.E.O`:"
   ]
  },
  {
   "cell_type": "code",
   "execution_count": 32,
   "metadata": {
    "slideshow": {
     "slide_type": "fragment"
    }
   },
   "outputs": [
    {
     "name": "stdout",
     "output_type": "stream",
     "text": [
      "C.E.O. (40, 25)\n",
      "C.E.O (4, 25)\n"
     ]
    }
   ],
   "source": [
    "print('C.E.O.', fec_trcl[fec_trcl['OCCUPATION'] == 'C.E.O.'].shape)\n",
    "print('C.E.O', fec_trcl[fec_trcl['OCCUPATION'] == 'C.E.O'].shape)"
   ]
  },
  {
   "cell_type": "markdown",
   "metadata": {
    "slideshow": {
     "slide_type": "slide"
    }
   },
   "source": [
    "* Admittedly, the number of alternatives is very small to matter in this dataset, but the problem may be much larger in other instances.\n",
    "\n",
    "* You will notice by looking at the occupations that many refer to the same basic job type, or there are several variants of the same thing. \n",
    "\n",
    "* Here is a code snippet illustrates a technique for cleaning up a few of them by mapping from one occupation to another; note the trick of using `dict.get()` to allow occupations with no mapping to pass through."
   ]
  },
  {
   "cell_type": "code",
   "execution_count": 33,
   "metadata": {
    "slideshow": {
     "slide_type": "fragment"
    }
   },
   "outputs": [],
   "source": [
    "occ_mapping = {\n",
    "    'C.E.O.': 'CEO',\n",
    "    'C.E.O': 'CEO'\n",
    "}\n",
    "\n",
    "# If no mapping provided, return x\n",
    "f = lambda x: occ_mapping.get(x, x) \n",
    "fec_trcl.loc[:, 'OCCUPATION'] = fec_trcl.loc[:, 'OCCUPATION'].map(f)"
   ]
  },
  {
   "cell_type": "markdown",
   "metadata": {
    "slideshow": {
     "slide_type": "slide"
    }
   },
   "source": [
    "* We'll do the same thing for employers, where a problem seems to appear with self-employed persons."
   ]
  },
  {
   "cell_type": "code",
   "execution_count": 34,
   "metadata": {
    "slideshow": {
     "slide_type": "fragment"
    }
   },
   "outputs": [
    {
     "data": {
      "text/plain": [
       "SELF-EMPLOYED     313641\n",
       "SELF EMPLOYED       3185\n",
       "SELF- EMPLOYED        10\n",
       "SELFL-EMPLOYED        10\n",
       "SELF  EMPLOYED         4\n",
       "SELF--EMPLOYED         4\n",
       "SELF -EMPLOYED         1\n",
       "Name: EMPLOYER, dtype: int64"
      ]
     },
     "execution_count": 34,
     "metadata": {},
     "output_type": "execute_result"
    }
   ],
   "source": [
    "fec_trcl[fec_trcl['EMPLOYER'].str.contains('^SELF.+EMPLOYED$', na=False)]['EMPLOYER'].value_counts()"
   ]
  },
  {
   "cell_type": "code",
   "execution_count": 35,
   "metadata": {
    "slideshow": {
     "slide_type": "fragment"
    }
   },
   "outputs": [],
   "source": [
    "emp_mapping = {\n",
    "    'SELFL-EMPLOYED' : 'SELF-EMPLOYED',\n",
    "    'SELF- EMPLOYED' : 'SELF-EMPLOYED',\n",
    "    'SELF--EMPLOYED' : 'SELF-EMPLOYED',\n",
    "    'SELF  EMPLOYED' : 'SELF-EMPLOYED',\n",
    "    'SELF -EMPLOYED' : 'SELF-EMPLOYED'\n",
    "}\n",
    "\n",
    "# If no mapping provided, return x\n",
    "f = lambda x: emp_mapping.get(x, x) \n",
    "fec_trcl.loc[:, 'EMPLOYER'] = fec_trcl.loc[:, 'EMPLOYER'].map(f)"
   ]
  },
  {
   "cell_type": "markdown",
   "metadata": {
    "slideshow": {
     "slide_type": "slide"
    }
   },
   "source": [
    "* Now, we can use `pivot_table` to aggregate the data by party and occupation, then filter down to the subset that donated at least $2 million overall."
   ]
  },
  {
   "cell_type": "code",
   "execution_count": 36,
   "metadata": {
    "slideshow": {
     "slide_type": "fragment"
    }
   },
   "outputs": [
    {
     "data": {
      "text/html": [
       "<div>\n",
       "<style scoped>\n",
       "    .dataframe tbody tr th:only-of-type {\n",
       "        vertical-align: middle;\n",
       "    }\n",
       "\n",
       "    .dataframe tbody tr th {\n",
       "        vertical-align: top;\n",
       "    }\n",
       "\n",
       "    .dataframe thead th {\n",
       "        text-align: right;\n",
       "    }\n",
       "</style>\n",
       "<table border=\"1\" class=\"dataframe\">\n",
       "  <thead>\n",
       "    <tr style=\"text-align: right;\">\n",
       "      <th>CAND_PTY_AFFILIATION</th>\n",
       "      <th>DEM</th>\n",
       "      <th>REP</th>\n",
       "    </tr>\n",
       "    <tr>\n",
       "      <th>OCCUPATION</th>\n",
       "      <th></th>\n",
       "      <th></th>\n",
       "    </tr>\n",
       "  </thead>\n",
       "  <tbody>\n",
       "    <tr>\n",
       "      <th>ATTORNEY</th>\n",
       "      <td>75.0</td>\n",
       "      <td>NaN</td>\n",
       "    </tr>\n",
       "    <tr>\n",
       "      <th>CERTIFIED REGISTERED NURSE ANESTHETIS</th>\n",
       "      <td>1859.0</td>\n",
       "      <td>NaN</td>\n",
       "    </tr>\n",
       "    <tr>\n",
       "      <th>CHARITY CONSULTANT</th>\n",
       "      <td>250.0</td>\n",
       "      <td>NaN</td>\n",
       "    </tr>\n",
       "    <tr>\n",
       "      <th>CONSULTANT, BUSINESS OWNER</th>\n",
       "      <td>250.0</td>\n",
       "      <td>NaN</td>\n",
       "    </tr>\n",
       "    <tr>\n",
       "      <th>COUNSELOR</th>\n",
       "      <td>100.0</td>\n",
       "      <td>NaN</td>\n",
       "    </tr>\n",
       "    <tr>\n",
       "      <th>...</th>\n",
       "      <td>...</td>\n",
       "      <td>...</td>\n",
       "    </tr>\n",
       "    <tr>\n",
       "      <th>ZOO KEEPER</th>\n",
       "      <td>NaN</td>\n",
       "      <td>250.0</td>\n",
       "    </tr>\n",
       "    <tr>\n",
       "      <th>ZOOKEEPER</th>\n",
       "      <td>475.0</td>\n",
       "      <td>NaN</td>\n",
       "    </tr>\n",
       "    <tr>\n",
       "      <th>ZTE</th>\n",
       "      <td>100.0</td>\n",
       "      <td>NaN</td>\n",
       "    </tr>\n",
       "    <tr>\n",
       "      <th>ZX GUN INC.</th>\n",
       "      <td>NaN</td>\n",
       "      <td>550.0</td>\n",
       "    </tr>\n",
       "    <tr>\n",
       "      <th>[BALNK]</th>\n",
       "      <td>335.0</td>\n",
       "      <td>NaN</td>\n",
       "    </tr>\n",
       "  </tbody>\n",
       "</table>\n",
       "<p>59267 rows × 2 columns</p>\n",
       "</div>"
      ],
      "text/plain": [
       "CAND_PTY_AFFILIATION                       DEM    REP\n",
       "OCCUPATION                                           \n",
       " ATTORNEY                                 75.0    NaN\n",
       " CERTIFIED REGISTERED NURSE ANESTHETIS  1859.0    NaN\n",
       " CHARITY CONSULTANT                      250.0    NaN\n",
       " CONSULTANT, BUSINESS OWNER              250.0    NaN\n",
       " COUNSELOR                               100.0    NaN\n",
       "...                                        ...    ...\n",
       "ZOO KEEPER                                 NaN  250.0\n",
       "ZOOKEEPER                                475.0    NaN\n",
       "ZTE                                      100.0    NaN\n",
       "ZX GUN INC.                                NaN  550.0\n",
       "[BALNK]                                  335.0    NaN\n",
       "\n",
       "[59267 rows x 2 columns]"
      ]
     },
     "execution_count": 36,
     "metadata": {},
     "output_type": "execute_result"
    }
   ],
   "source": [
    "by_occupation = fec_trcl.pivot_table(index='OCCUPATION', \n",
    "                                     columns='CAND_PTY_AFFILIATION',\n",
    "                                     values='TRANSACTION_AMT',\n",
    "                                     aggfunc='sum')\n",
    "by_occupation"
   ]
  },
  {
   "cell_type": "markdown",
   "metadata": {
    "slideshow": {
     "slide_type": "slide"
    }
   },
   "source": [
    "* There is something fishy here.\n",
    "\n",
    "* The first row is about attorneys, which we saw is a common donor occupation, yet it only appears with a $75.0 amount.  \n",
    "\n",
    "* It does not make sense, let's check the index."
   ]
  },
  {
   "cell_type": "code",
   "execution_count": 40,
   "metadata": {
    "slideshow": {
     "slide_type": "fragment"
    }
   },
   "outputs": [
    {
     "data": {
      "text/plain": [
       "Index([' ATTORNEY', ' CERTIFIED REGISTERED NURSE ANESTHETIS',\n",
       "       ' CHARITY CONSULTANT', ' CONSULTANT, BUSINESS OWNER', ' COUNSELOR',\n",
       "       ' EDUCATOR', ' ENGINEER', ' HEALTHCARE MANAGER', ' MANAGER',\n",
       "       ' PLANNING COMMISSIONER',\n",
       "       ...\n",
       "       'ZONING ADMINISTRATOR', 'ZONING COMMISSIONER', 'ZONING MANAGER',\n",
       "       'ZOO CURATOR', 'ZOO EDUCATION COORDINATOR', 'ZOO KEEPER', 'ZOOKEEPER',\n",
       "       'ZTE', 'ZX GUN INC.', '[BALNK]'],\n",
       "      dtype='object', name='OCCUPATION', length=59267)"
      ]
     },
     "execution_count": 40,
     "metadata": {},
     "output_type": "execute_result"
    }
   ],
   "source": [
    "by_occupation.index"
   ]
  },
  {
   "cell_type": "markdown",
   "metadata": {
    "slideshow": {
     "slide_type": "slide"
    }
   },
   "source": [
    "* So we come upon another problem with the data, the various occupations may have starting and trailing whitespace.\n",
    "\n",
    "* We strip it and we pivot again."
   ]
  },
  {
   "cell_type": "code",
   "execution_count": 42,
   "metadata": {},
   "outputs": [
    {
     "data": {
      "text/html": [
       "<div>\n",
       "<style scoped>\n",
       "    .dataframe tbody tr th:only-of-type {\n",
       "        vertical-align: middle;\n",
       "    }\n",
       "\n",
       "    .dataframe tbody tr th {\n",
       "        vertical-align: top;\n",
       "    }\n",
       "\n",
       "    .dataframe thead th {\n",
       "        text-align: right;\n",
       "    }\n",
       "</style>\n",
       "<table border=\"1\" class=\"dataframe\">\n",
       "  <thead>\n",
       "    <tr style=\"text-align: right;\">\n",
       "      <th>CAND_PTY_AFFILIATION</th>\n",
       "      <th>DEM</th>\n",
       "      <th>REP</th>\n",
       "    </tr>\n",
       "    <tr>\n",
       "      <th>OCCUPATION</th>\n",
       "      <th></th>\n",
       "      <th></th>\n",
       "    </tr>\n",
       "  </thead>\n",
       "  <tbody>\n",
       "    <tr>\n",
       "      <th>#1 TRUMP FAN</th>\n",
       "      <td>NaN</td>\n",
       "      <td>514.0</td>\n",
       "    </tr>\n",
       "    <tr>\n",
       "      <th>''''FOR HIRE'''' DRIVER</th>\n",
       "      <td>NaN</td>\n",
       "      <td>50.0</td>\n",
       "    </tr>\n",
       "    <tr>\n",
       "      <th>( SELF ) STEEL BUSINESS</th>\n",
       "      <td>NaN</td>\n",
       "      <td>500.0</td>\n",
       "    </tr>\n",
       "    <tr>\n",
       "      <th>(DOWNSIZED)</th>\n",
       "      <td>44.0</td>\n",
       "      <td>NaN</td>\n",
       "    </tr>\n",
       "    <tr>\n",
       "      <th>-</th>\n",
       "      <td>5131.0</td>\n",
       "      <td>NaN</td>\n",
       "    </tr>\n",
       "    <tr>\n",
       "      <th>...</th>\n",
       "      <td>...</td>\n",
       "      <td>...</td>\n",
       "    </tr>\n",
       "    <tr>\n",
       "      <th>ZOO KEEPER</th>\n",
       "      <td>NaN</td>\n",
       "      <td>250.0</td>\n",
       "    </tr>\n",
       "    <tr>\n",
       "      <th>ZOOKEEPER</th>\n",
       "      <td>475.0</td>\n",
       "      <td>NaN</td>\n",
       "    </tr>\n",
       "    <tr>\n",
       "      <th>ZTE</th>\n",
       "      <td>100.0</td>\n",
       "      <td>NaN</td>\n",
       "    </tr>\n",
       "    <tr>\n",
       "      <th>ZX GUN INC.</th>\n",
       "      <td>NaN</td>\n",
       "      <td>550.0</td>\n",
       "    </tr>\n",
       "    <tr>\n",
       "      <th>[BALNK]</th>\n",
       "      <td>335.0</td>\n",
       "      <td>NaN</td>\n",
       "    </tr>\n",
       "  </tbody>\n",
       "</table>\n",
       "<p>59253 rows × 2 columns</p>\n",
       "</div>"
      ],
      "text/plain": [
       "CAND_PTY_AFFILIATION        DEM    REP\n",
       "OCCUPATION                            \n",
       "#1 TRUMP FAN                NaN  514.0\n",
       "''''FOR HIRE'''' DRIVER     NaN   50.0\n",
       "( SELF ) STEEL BUSINESS     NaN  500.0\n",
       "(DOWNSIZED)                44.0    NaN\n",
       "-                        5131.0    NaN\n",
       "...                         ...    ...\n",
       "ZOO KEEPER                  NaN  250.0\n",
       "ZOOKEEPER                 475.0    NaN\n",
       "ZTE                       100.0    NaN\n",
       "ZX GUN INC.                 NaN  550.0\n",
       "[BALNK]                   335.0    NaN\n",
       "\n",
       "[59253 rows x 2 columns]"
      ]
     },
     "execution_count": 42,
     "metadata": {},
     "output_type": "execute_result"
    }
   ],
   "source": [
    "fec_trcl['OCCUPATION'] = fec_trcl['OCCUPATION'].str.strip()\n",
    "by_occupation = fec_trcl.pivot_table(index='OCCUPATION', \n",
    "                                     columns='CAND_PTY_AFFILIATION',\n",
    "                                     values='TRANSACTION_AMT',\n",
    "                                     aggfunc='sum')\n",
    "by_occupation"
   ]
  },
  {
   "cell_type": "markdown",
   "metadata": {
    "slideshow": {
     "slide_type": "slide"
    }
   },
   "source": [
    "* To get donations over $2 million overall, we need to sum across columns, so that we get the sum for each row.\n",
    "\n",
    "* This is axis 1."
   ]
  },
  {
   "cell_type": "code",
   "execution_count": 43,
   "metadata": {
    "slideshow": {
     "slide_type": "fragment"
    }
   },
   "outputs": [
    {
     "data": {
      "text/html": [
       "<div>\n",
       "<style scoped>\n",
       "    .dataframe tbody tr th:only-of-type {\n",
       "        vertical-align: middle;\n",
       "    }\n",
       "\n",
       "    .dataframe tbody tr th {\n",
       "        vertical-align: top;\n",
       "    }\n",
       "\n",
       "    .dataframe thead th {\n",
       "        text-align: right;\n",
       "    }\n",
       "</style>\n",
       "<table border=\"1\" class=\"dataframe\">\n",
       "  <thead>\n",
       "    <tr style=\"text-align: right;\">\n",
       "      <th>CAND_PTY_AFFILIATION</th>\n",
       "      <th>DEM</th>\n",
       "      <th>REP</th>\n",
       "    </tr>\n",
       "    <tr>\n",
       "      <th>OCCUPATION</th>\n",
       "      <th></th>\n",
       "      <th></th>\n",
       "    </tr>\n",
       "  </thead>\n",
       "  <tbody>\n",
       "    <tr>\n",
       "      <th>ATTORNEY</th>\n",
       "      <td>25844388.0</td>\n",
       "      <td>727960.0</td>\n",
       "    </tr>\n",
       "    <tr>\n",
       "      <th>BUSINESS OWNER</th>\n",
       "      <td>978955.0</td>\n",
       "      <td>1136800.0</td>\n",
       "    </tr>\n",
       "    <tr>\n",
       "      <th>CEO</th>\n",
       "      <td>5287522.0</td>\n",
       "      <td>1188203.0</td>\n",
       "    </tr>\n",
       "    <tr>\n",
       "      <th>CONSULTANT</th>\n",
       "      <td>7622214.0</td>\n",
       "      <td>387399.0</td>\n",
       "    </tr>\n",
       "    <tr>\n",
       "      <th>ENGINEER</th>\n",
       "      <td>2254590.0</td>\n",
       "      <td>646898.0</td>\n",
       "    </tr>\n",
       "    <tr>\n",
       "      <th>EXECUTIVE</th>\n",
       "      <td>3081231.0</td>\n",
       "      <td>669911.0</td>\n",
       "    </tr>\n",
       "    <tr>\n",
       "      <th>HOMEMAKER</th>\n",
       "      <td>8630319.0</td>\n",
       "      <td>638433.0</td>\n",
       "    </tr>\n",
       "    <tr>\n",
       "      <th>LAWYER</th>\n",
       "      <td>7757537.0</td>\n",
       "      <td>218558.0</td>\n",
       "    </tr>\n",
       "    <tr>\n",
       "      <th>MANAGER</th>\n",
       "      <td>2451789.0</td>\n",
       "      <td>585766.0</td>\n",
       "    </tr>\n",
       "    <tr>\n",
       "      <th>NOT EMPLOYED</th>\n",
       "      <td>3786203.0</td>\n",
       "      <td>78418.0</td>\n",
       "    </tr>\n",
       "    <tr>\n",
       "      <th>OWNER</th>\n",
       "      <td>2884687.0</td>\n",
       "      <td>937096.0</td>\n",
       "    </tr>\n",
       "    <tr>\n",
       "      <th>PHYSICIAN</th>\n",
       "      <td>7431660.0</td>\n",
       "      <td>1218480.0</td>\n",
       "    </tr>\n",
       "    <tr>\n",
       "      <th>PRESIDENT</th>\n",
       "      <td>4070940.0</td>\n",
       "      <td>881748.0</td>\n",
       "    </tr>\n",
       "    <tr>\n",
       "      <th>PRESIDENT/CEO</th>\n",
       "      <td>145893.0</td>\n",
       "      <td>18676244.0</td>\n",
       "    </tr>\n",
       "    <tr>\n",
       "      <th>PROFESSOR</th>\n",
       "      <td>5358678.0</td>\n",
       "      <td>53379.0</td>\n",
       "    </tr>\n",
       "    <tr>\n",
       "      <th>REAL ESTATE</th>\n",
       "      <td>1873056.0</td>\n",
       "      <td>569315.0</td>\n",
       "    </tr>\n",
       "    <tr>\n",
       "      <th>RETIRED</th>\n",
       "      <td>46267911.0</td>\n",
       "      <td>16124075.0</td>\n",
       "    </tr>\n",
       "    <tr>\n",
       "      <th>SALES</th>\n",
       "      <td>1290821.0</td>\n",
       "      <td>723267.0</td>\n",
       "    </tr>\n",
       "    <tr>\n",
       "      <th>SELF-EMPLOYED</th>\n",
       "      <td>87444.0</td>\n",
       "      <td>2288902.0</td>\n",
       "    </tr>\n",
       "    <tr>\n",
       "      <th>STUDENT</th>\n",
       "      <td>2322204.0</td>\n",
       "      <td>50049.0</td>\n",
       "    </tr>\n",
       "    <tr>\n",
       "      <th>TEACHER</th>\n",
       "      <td>3070208.0</td>\n",
       "      <td>85044.0</td>\n",
       "    </tr>\n",
       "    <tr>\n",
       "      <th>WRITER</th>\n",
       "      <td>2670646.0</td>\n",
       "      <td>32083.0</td>\n",
       "    </tr>\n",
       "  </tbody>\n",
       "</table>\n",
       "</div>"
      ],
      "text/plain": [
       "CAND_PTY_AFFILIATION         DEM         REP\n",
       "OCCUPATION                                  \n",
       "ATTORNEY              25844388.0    727960.0\n",
       "BUSINESS OWNER          978955.0   1136800.0\n",
       "CEO                    5287522.0   1188203.0\n",
       "CONSULTANT             7622214.0    387399.0\n",
       "ENGINEER               2254590.0    646898.0\n",
       "EXECUTIVE              3081231.0    669911.0\n",
       "HOMEMAKER              8630319.0    638433.0\n",
       "LAWYER                 7757537.0    218558.0\n",
       "MANAGER                2451789.0    585766.0\n",
       "NOT EMPLOYED           3786203.0     78418.0\n",
       "OWNER                  2884687.0    937096.0\n",
       "PHYSICIAN              7431660.0   1218480.0\n",
       "PRESIDENT              4070940.0    881748.0\n",
       "PRESIDENT/CEO           145893.0  18676244.0\n",
       "PROFESSOR              5358678.0     53379.0\n",
       "REAL ESTATE            1873056.0    569315.0\n",
       "RETIRED               46267911.0  16124075.0\n",
       "SALES                  1290821.0    723267.0\n",
       "SELF-EMPLOYED            87444.0   2288902.0\n",
       "STUDENT                2322204.0     50049.0\n",
       "TEACHER                3070208.0     85044.0\n",
       "WRITER                 2670646.0     32083.0"
      ]
     },
     "execution_count": 43,
     "metadata": {},
     "output_type": "execute_result"
    }
   ],
   "source": [
    "over_2mm = by_occupation[by_occupation.sum(axis=1) > 2000000] \n",
    "over_2mm"
   ]
  },
  {
   "cell_type": "markdown",
   "metadata": {
    "slideshow": {
     "slide_type": "slide"
    }
   },
   "source": [
    "* It can be easier to look at this data graphically as a bar plot ('barh' means horizontal bar plot)."
   ]
  },
  {
   "cell_type": "code",
   "execution_count": 44,
   "metadata": {
    "slideshow": {
     "slide_type": "fragment"
    }
   },
   "outputs": [
    {
     "data": {
      "image/png": "[encoded data removed]",
      "text/plain": [
       "<Figure size 864x1152 with 1 Axes>"
      ]
     },
     "metadata": {},
     "output_type": "display_data"
    }
   ],
   "source": [
    "ax = over_2mm.plot(kind='barh', color=('deepskyblue', 'salmon'), figsize=(12, 16))"
   ]
  },
  {
   "cell_type": "markdown",
   "metadata": {
    "slideshow": {
     "slide_type": "slide"
    }
   },
   "source": [
    "## Bucketing Donation Amounts\n",
    "\n",
    "* A useful way to analyze the data is to use the `cut` function to discretize the contributor amounts into buckets by contribution size.\n",
    "\n",
    "* First we have to define the bins.\n",
    "\n",
    "* It is interesting to check what is going on for bin size growing logarithmically."
   ]
  },
  {
   "cell_type": "markdown",
   "metadata": {
    "slideshow": {
     "slide_type": "slide"
    }
   },
   "source": [
    "* First, let's find the maximum contribution."
   ]
  },
  {
   "cell_type": "code",
   "execution_count": 45,
   "metadata": {
    "slideshow": {
     "slide_type": "fragment"
    }
   },
   "outputs": [
    {
     "data": {
      "text/plain": [
       "CMTE_ID                                           C00580100\n",
       "AMNDT_IND                                                 A\n",
       "RPT_TP                                                  30G\n",
       "TRANSACTION_PGI                                       G2016\n",
       "IMAGE_NUM                                201906289150368844\n",
       "TRANSACTION_TP                                          15C\n",
       "ENTITY_TP                                               CAN\n",
       "NAME                                        TRUMP, DONALD J\n",
       "CITY                                               NEW YORK\n",
       "STATE                                                    NY\n",
       "ZIP_CODE                                              10022\n",
       "EMPLOYER                             THE TRUMP ORGANIZATION\n",
       "OCCUPATION                                    PRESIDENT/CEO\n",
       "TRANSACTION_DT                                     10282016\n",
       "TRANSACTION_AMT                                       1e+07\n",
       "OTHER_ID                                          P80001571\n",
       "TRAN_ID                                          SA17D.4222\n",
       "FILE_NUM                                            1335965\n",
       "MEMO_CD                                                 NaN\n",
       "MEMO_TEXT                                               NaN\n",
       "SUB_ID                                  4071020191659140636\n",
       "CMTE_NM                 DONALD J. TRUMP FOR PRESIDENT, INC.\n",
       "CAND_ID                                           P80001571\n",
       "CAND_NAME                                  TRUMP, DONALD J.\n",
       "CAND_PTY_AFFILIATION                                    REP\n",
       "Name: 3338310, dtype: object"
      ]
     },
     "execution_count": 45,
     "metadata": {},
     "output_type": "execute_result"
    }
   ],
   "source": [
    "max_contrib = fec_trcl.loc[fec_trcl['TRANSACTION_AMT'].idxmax()]\n",
    "max_contrib"
   ]
  },
  {
   "cell_type": "markdown",
   "metadata": {
    "slideshow": {
     "slide_type": "slide"
    }
   },
   "source": [
    "* Now we can create logarithmically spaced intervals to cover the maximum."
   ]
  },
  {
   "cell_type": "code",
   "execution_count": 46,
   "metadata": {
    "slideshow": {
     "slide_type": "fragment"
    }
   },
   "outputs": [
    {
     "data": {
      "text/plain": [
       "array([0.e+00, 1.e+00, 1.e+01, 1.e+02, 1.e+03, 1.e+04, 1.e+05, 1.e+06,\n",
       "       1.e+07])"
      ]
     },
     "execution_count": 46,
     "metadata": {},
     "output_type": "execute_result"
    }
   ],
   "source": [
    "bins = np.logspace(0, 7, num=8)\n",
    "bins = np.insert(bins, 0, 0)\n",
    "bins"
   ]
  },
  {
   "cell_type": "markdown",
   "metadata": {
    "slideshow": {
     "slide_type": "slide"
    }
   },
   "source": [
    "* And then we can use the `cut` method to assign each observation (row) to a bucket (bin)."
   ]
  },
  {
   "cell_type": "code",
   "execution_count": 47,
   "metadata": {
    "slideshow": {
     "slide_type": "fragment"
    }
   },
   "outputs": [
    {
     "data": {
      "text/plain": [
       "620407       (10.0, 100.0]\n",
       "620408         (1.0, 10.0]\n",
       "620409       (10.0, 100.0]\n",
       "620410       (10.0, 100.0]\n",
       "620411       (10.0, 100.0]\n",
       "                ...       \n",
       "3346079    (100.0, 1000.0]\n",
       "3346080    (100.0, 1000.0]\n",
       "3346081    (100.0, 1000.0]\n",
       "3346082    (100.0, 1000.0]\n",
       "3346083    (100.0, 1000.0]\n",
       "Name: TRANSACTION_AMT, Length: 2662041, dtype: category\n",
       "Categories (8, interval[float64]): [(0.0, 1.0] < (1.0, 10.0] < (10.0, 100.0] < (100.0, 1000.0] < (1000.0, 10000.0] < (10000.0, 100000.0] < (100000.0, 1000000.0] < (1000000.0, 10000000.0]]"
      ]
     },
     "execution_count": 47,
     "metadata": {},
     "output_type": "execute_result"
    }
   ],
   "source": [
    "bin_labels = pd.cut(fec_trcl['TRANSACTION_AMT'], bins)\n",
    "bin_labels"
   ]
  },
  {
   "cell_type": "markdown",
   "metadata": {
    "slideshow": {
     "slide_type": "slide"
    }
   },
   "source": [
    "* We can then group the data for Trump and Clinton by name and bin label to get a histogram by donation size."
   ]
  },
  {
   "cell_type": "code",
   "execution_count": 48,
   "metadata": {
    "slideshow": {
     "slide_type": "fragment"
    }
   },
   "outputs": [],
   "source": [
    "grouped = fec_trcl.groupby(['CAND_NAME', bin_labels])"
   ]
  },
  {
   "cell_type": "markdown",
   "metadata": {
    "slideshow": {
     "slide_type": "slide"
    }
   },
   "source": [
    "* If we ask for the size of each group, we'll get the number of donations for each candidate and each bucket."
   ]
  },
  {
   "cell_type": "code",
   "execution_count": 49,
   "metadata": {
    "slideshow": {
     "slide_type": "fragment"
    }
   },
   "outputs": [
    {
     "data": {
      "text/plain": [
       "CAND_NAME                TRANSACTION_AMT        \n",
       "CLINTON, HILLARY RODHAM  (0.0, 1.0]                   42030\n",
       "                         (1.0, 10.0]                 606924\n",
       "                         (10.0, 100.0]              1557935\n",
       "                         (100.0, 1000.0]             255669\n",
       "                         (1000.0, 10000.0]            52432\n",
       "                         (10000.0, 100000.0]             52\n",
       "                         (100000.0, 1000000.0]            0\n",
       "                         (1000000.0, 10000000.0]          0\n",
       "TRUMP, DONALD J.         (0.0, 1.0]                      26\n",
       "                         (1.0, 10.0]                   1517\n",
       "                         (10.0, 100.0]                34421\n",
       "                         (100.0, 1000.0]             104361\n",
       "                         (1000.0, 10000.0]             6648\n",
       "                         (10000.0, 100000.0]             21\n",
       "                         (100000.0, 1000000.0]            0\n",
       "                         (1000000.0, 10000000.0]          5\n",
       "dtype: int64"
      ]
     },
     "execution_count": 49,
     "metadata": {},
     "output_type": "execute_result"
    }
   ],
   "source": [
    "grouped.size()"
   ]
  },
  {
   "cell_type": "markdown",
   "metadata": {
    "slideshow": {
     "slide_type": "slide"
    }
   },
   "source": [
    "* That does not look very nice, because it is a series with a multi-level index (`CAND_NAME`, `TRANSACTION_AMT`).\n",
    "\n",
    "* We had better turn it to a `DataFrame`, with the first level of the index as columns.\n",
    "\n",
    "* We would therefore keep only `TRANSACTION_AMT` as index, which will give as a `DataFrame` indexed by the buckets."
   ]
  },
  {
   "cell_type": "code",
   "execution_count": 50,
   "metadata": {
    "slideshow": {
     "slide_type": "fragment"
    }
   },
   "outputs": [
    {
     "data": {
      "text/html": [
       "<div>\n",
       "<style scoped>\n",
       "    .dataframe tbody tr th:only-of-type {\n",
       "        vertical-align: middle;\n",
       "    }\n",
       "\n",
       "    .dataframe tbody tr th {\n",
       "        vertical-align: top;\n",
       "    }\n",
       "\n",
       "    .dataframe thead th {\n",
       "        text-align: right;\n",
       "    }\n",
       "</style>\n",
       "<table border=\"1\" class=\"dataframe\">\n",
       "  <thead>\n",
       "    <tr style=\"text-align: right;\">\n",
       "      <th>CAND_NAME</th>\n",
       "      <th>CLINTON, HILLARY RODHAM</th>\n",
       "      <th>TRUMP, DONALD J.</th>\n",
       "    </tr>\n",
       "    <tr>\n",
       "      <th>TRANSACTION_AMT</th>\n",
       "      <th></th>\n",
       "      <th></th>\n",
       "    </tr>\n",
       "  </thead>\n",
       "  <tbody>\n",
       "    <tr>\n",
       "      <th>(0.0, 1.0]</th>\n",
       "      <td>42030</td>\n",
       "      <td>26</td>\n",
       "    </tr>\n",
       "    <tr>\n",
       "      <th>(1.0, 10.0]</th>\n",
       "      <td>606924</td>\n",
       "      <td>1517</td>\n",
       "    </tr>\n",
       "    <tr>\n",
       "      <th>(10.0, 100.0]</th>\n",
       "      <td>1557935</td>\n",
       "      <td>34421</td>\n",
       "    </tr>\n",
       "    <tr>\n",
       "      <th>(100.0, 1000.0]</th>\n",
       "      <td>255669</td>\n",
       "      <td>104361</td>\n",
       "    </tr>\n",
       "    <tr>\n",
       "      <th>(1000.0, 10000.0]</th>\n",
       "      <td>52432</td>\n",
       "      <td>6648</td>\n",
       "    </tr>\n",
       "    <tr>\n",
       "      <th>(10000.0, 100000.0]</th>\n",
       "      <td>52</td>\n",
       "      <td>21</td>\n",
       "    </tr>\n",
       "    <tr>\n",
       "      <th>(100000.0, 1000000.0]</th>\n",
       "      <td>0</td>\n",
       "      <td>0</td>\n",
       "    </tr>\n",
       "    <tr>\n",
       "      <th>(1000000.0, 10000000.0]</th>\n",
       "      <td>0</td>\n",
       "      <td>5</td>\n",
       "    </tr>\n",
       "  </tbody>\n",
       "</table>\n",
       "</div>"
      ],
      "text/plain": [
       "CAND_NAME                CLINTON, HILLARY RODHAM  TRUMP, DONALD J.\n",
       "TRANSACTION_AMT                                                   \n",
       "(0.0, 1.0]                                 42030                26\n",
       "(1.0, 10.0]                               606924              1517\n",
       "(10.0, 100.0]                            1557935             34421\n",
       "(100.0, 1000.0]                           255669            104361\n",
       "(1000.0, 10000.0]                          52432              6648\n",
       "(10000.0, 100000.0]                           52                21\n",
       "(100000.0, 1000000.0]                          0                 0\n",
       "(1000000.0, 10000000.0]                        0                 5"
      ]
     },
     "execution_count": 50,
     "metadata": {},
     "output_type": "execute_result"
    }
   ],
   "source": [
    "grouped.size().unstack(0)"
   ]
  },
  {
   "cell_type": "markdown",
   "metadata": {
    "slideshow": {
     "slide_type": "slide"
    }
   },
   "source": [
    "* The data shows that Clinton has received a significantly larger number of donations than Trump. \n",
    "\n",
    "* We can also sum the contribution amounts and normalize within buckets to visualize the percentage of total donations of each size by candidate.\n",
    "\n",
    "* We first do the sums."
   ]
  },
  {
   "cell_type": "code",
   "execution_count": 51,
   "metadata": {
    "slideshow": {
     "slide_type": "fragment"
    }
   },
   "outputs": [
    {
     "data": {
      "text/plain": [
       "CAND_NAME                TRANSACTION_AMT        \n",
       "CLINTON, HILLARY RODHAM  (0.0, 1.0]                     42030.0\n",
       "                         (1.0, 10.0]                  4359235.0\n",
       "                         (10.0, 100.0]               68855884.0\n",
       "                         (100.0, 1000.0]             88763686.0\n",
       "                         (1000.0, 10000.0]          130521248.0\n",
       "                         (10000.0, 100000.0]          1455955.0\n",
       "                         (100000.0, 1000000.0]              NaN\n",
       "                         (1000000.0, 10000000.0]            NaN\n",
       "TRUMP, DONALD J.         (0.0, 1.0]                        26.0\n",
       "                         (1.0, 10.0]                    14407.0\n",
       "                         (10.0, 100.0]                2488226.0\n",
       "                         (100.0, 1000.0]             39445281.0\n",
       "                         (1000.0, 10000.0]           16376122.0\n",
       "                         (10000.0, 100000.0]           447493.0\n",
       "                         (100000.0, 1000000.0]              NaN\n",
       "                         (1000000.0, 10000000.0]     18000000.0\n",
       "Name: TRANSACTION_AMT, dtype: float64"
      ]
     },
     "execution_count": 51,
     "metadata": {},
     "output_type": "execute_result"
    }
   ],
   "source": [
    "grouped['TRANSACTION_AMT'].sum()"
   ]
  },
  {
   "cell_type": "markdown",
   "metadata": {
    "slideshow": {
     "slide_type": "slide"
    }
   },
   "source": [
    "* Again, this does not look very nice, so we'll turn it into a `DataFrame`.\n",
    "\n",
    "* Again we'll unstack the first column, so that we get the contribution amounts on the index."
   ]
  },
  {
   "cell_type": "code",
   "execution_count": 52,
   "metadata": {
    "slideshow": {
     "slide_type": "fragment"
    }
   },
   "outputs": [
    {
     "data": {
      "text/html": [
       "<div>\n",
       "<style scoped>\n",
       "    .dataframe tbody tr th:only-of-type {\n",
       "        vertical-align: middle;\n",
       "    }\n",
       "\n",
       "    .dataframe tbody tr th {\n",
       "        vertical-align: top;\n",
       "    }\n",
       "\n",
       "    .dataframe thead th {\n",
       "        text-align: right;\n",
       "    }\n",
       "</style>\n",
       "<table border=\"1\" class=\"dataframe\">\n",
       "  <thead>\n",
       "    <tr style=\"text-align: right;\">\n",
       "      <th>CAND_NAME</th>\n",
       "      <th>CLINTON, HILLARY RODHAM</th>\n",
       "      <th>TRUMP, DONALD J.</th>\n",
       "    </tr>\n",
       "    <tr>\n",
       "      <th>TRANSACTION_AMT</th>\n",
       "      <th></th>\n",
       "      <th></th>\n",
       "    </tr>\n",
       "  </thead>\n",
       "  <tbody>\n",
       "    <tr>\n",
       "      <th>(0.0, 1.0]</th>\n",
       "      <td>42030.0</td>\n",
       "      <td>26.0</td>\n",
       "    </tr>\n",
       "    <tr>\n",
       "      <th>(1.0, 10.0]</th>\n",
       "      <td>4359235.0</td>\n",
       "      <td>14407.0</td>\n",
       "    </tr>\n",
       "    <tr>\n",
       "      <th>(10.0, 100.0]</th>\n",
       "      <td>68855884.0</td>\n",
       "      <td>2488226.0</td>\n",
       "    </tr>\n",
       "    <tr>\n",
       "      <th>(100.0, 1000.0]</th>\n",
       "      <td>88763686.0</td>\n",
       "      <td>39445281.0</td>\n",
       "    </tr>\n",
       "    <tr>\n",
       "      <th>(1000.0, 10000.0]</th>\n",
       "      <td>130521248.0</td>\n",
       "      <td>16376122.0</td>\n",
       "    </tr>\n",
       "    <tr>\n",
       "      <th>(10000.0, 100000.0]</th>\n",
       "      <td>1455955.0</td>\n",
       "      <td>447493.0</td>\n",
       "    </tr>\n",
       "    <tr>\n",
       "      <th>(100000.0, 1000000.0]</th>\n",
       "      <td>NaN</td>\n",
       "      <td>NaN</td>\n",
       "    </tr>\n",
       "    <tr>\n",
       "      <th>(1000000.0, 10000000.0]</th>\n",
       "      <td>NaN</td>\n",
       "      <td>18000000.0</td>\n",
       "    </tr>\n",
       "  </tbody>\n",
       "</table>\n",
       "</div>"
      ],
      "text/plain": [
       "CAND_NAME                CLINTON, HILLARY RODHAM  TRUMP, DONALD J.\n",
       "TRANSACTION_AMT                                                   \n",
       "(0.0, 1.0]                               42030.0              26.0\n",
       "(1.0, 10.0]                            4359235.0           14407.0\n",
       "(10.0, 100.0]                         68855884.0         2488226.0\n",
       "(100.0, 1000.0]                       88763686.0        39445281.0\n",
       "(1000.0, 10000.0]                    130521248.0        16376122.0\n",
       "(10000.0, 100000.0]                    1455955.0          447493.0\n",
       "(100000.0, 1000000.0]                        NaN               NaN\n",
       "(1000000.0, 10000000.0]                      NaN        18000000.0"
      ]
     },
     "execution_count": 52,
     "metadata": {},
     "output_type": "execute_result"
    }
   ],
   "source": [
    "bucket_sums = grouped['TRANSACTION_AMT'].sum().unstack(0)\n",
    "bucket_sums"
   ]
  },
  {
   "cell_type": "markdown",
   "metadata": {
    "slideshow": {
     "slide_type": "slide"
    }
   },
   "source": [
    "* Then we can do the normalization.\n",
    "\n",
    "* The `DataFrame.div()` method divides a `DataFrame` by another `DataFrame`; here, it divides the original one by the row-wise sum."
   ]
  },
  {
   "cell_type": "code",
   "execution_count": 53,
   "metadata": {
    "slideshow": {
     "slide_type": "fragment"
    }
   },
   "outputs": [
    {
     "data": {
      "text/html": [
       "<div>\n",
       "<style scoped>\n",
       "    .dataframe tbody tr th:only-of-type {\n",
       "        vertical-align: middle;\n",
       "    }\n",
       "\n",
       "    .dataframe tbody tr th {\n",
       "        vertical-align: top;\n",
       "    }\n",
       "\n",
       "    .dataframe thead th {\n",
       "        text-align: right;\n",
       "    }\n",
       "</style>\n",
       "<table border=\"1\" class=\"dataframe\">\n",
       "  <thead>\n",
       "    <tr style=\"text-align: right;\">\n",
       "      <th>CAND_NAME</th>\n",
       "      <th>CLINTON, HILLARY RODHAM</th>\n",
       "      <th>TRUMP, DONALD J.</th>\n",
       "    </tr>\n",
       "    <tr>\n",
       "      <th>TRANSACTION_AMT</th>\n",
       "      <th></th>\n",
       "      <th></th>\n",
       "    </tr>\n",
       "  </thead>\n",
       "  <tbody>\n",
       "    <tr>\n",
       "      <th>(0.0, 1.0]</th>\n",
       "      <td>0.999382</td>\n",
       "      <td>0.000618</td>\n",
       "    </tr>\n",
       "    <tr>\n",
       "      <th>(1.0, 10.0]</th>\n",
       "      <td>0.996706</td>\n",
       "      <td>0.003294</td>\n",
       "    </tr>\n",
       "    <tr>\n",
       "      <th>(10.0, 100.0]</th>\n",
       "      <td>0.965124</td>\n",
       "      <td>0.034876</td>\n",
       "    </tr>\n",
       "    <tr>\n",
       "      <th>(100.0, 1000.0]</th>\n",
       "      <td>0.692336</td>\n",
       "      <td>0.307664</td>\n",
       "    </tr>\n",
       "    <tr>\n",
       "      <th>(1000.0, 10000.0]</th>\n",
       "      <td>0.888520</td>\n",
       "      <td>0.111480</td>\n",
       "    </tr>\n",
       "    <tr>\n",
       "      <th>(10000.0, 100000.0]</th>\n",
       "      <td>0.764904</td>\n",
       "      <td>0.235096</td>\n",
       "    </tr>\n",
       "    <tr>\n",
       "      <th>(100000.0, 1000000.0]</th>\n",
       "      <td>NaN</td>\n",
       "      <td>NaN</td>\n",
       "    </tr>\n",
       "    <tr>\n",
       "      <th>(1000000.0, 10000000.0]</th>\n",
       "      <td>NaN</td>\n",
       "      <td>1.000000</td>\n",
       "    </tr>\n",
       "  </tbody>\n",
       "</table>\n",
       "</div>"
      ],
      "text/plain": [
       "CAND_NAME                CLINTON, HILLARY RODHAM  TRUMP, DONALD J.\n",
       "TRANSACTION_AMT                                                   \n",
       "(0.0, 1.0]                              0.999382          0.000618\n",
       "(1.0, 10.0]                             0.996706          0.003294\n",
       "(10.0, 100.0]                           0.965124          0.034876\n",
       "(100.0, 1000.0]                         0.692336          0.307664\n",
       "(1000.0, 10000.0]                       0.888520          0.111480\n",
       "(10000.0, 100000.0]                     0.764904          0.235096\n",
       "(100000.0, 1000000.0]                        NaN               NaN\n",
       "(1000000.0, 10000000.0]                      NaN          1.000000"
      ]
     },
     "execution_count": 53,
     "metadata": {},
     "output_type": "execute_result"
    }
   ],
   "source": [
    "normed_sums = bucket_sums.div(bucket_sums.sum(axis=1), axis=0)\n",
    "normed_sums"
   ]
  },
  {
   "cell_type": "markdown",
   "metadata": {
    "slideshow": {
     "slide_type": "slide"
    }
   },
   "source": [
    "* And here is a plot of the last table."
   ]
  },
  {
   "cell_type": "code",
   "execution_count": 54,
   "metadata": {
    "slideshow": {
     "slide_type": "fragment"
    }
   },
   "outputs": [
    {
     "data": {
      "text/plain": [
       "<matplotlib.legend.Legend at 0x7fc7fe323c40>"
      ]
     },
     "execution_count": 54,
     "metadata": {},
     "output_type": "execute_result"
    },
    {
     "data": {
      "image/png": "[encoded data removed]",
      "text/plain": [
       "<Figure size 432x288 with 1 Axes>"
      ]
     },
     "metadata": {},
     "output_type": "display_data"
    }
   ],
   "source": [
    "f = plt.figure()\n",
    "normed_sums.plot(kind='barh', stacked=True, ax=f.gca(), color=('deepskyblue', 'salmon'))\n",
    "plt.legend(loc='center left', bbox_to_anchor=(1.0, 0.5))"
   ]
  },
  {
   "cell_type": "markdown",
   "metadata": {
    "slideshow": {
     "slide_type": "slide"
    }
   },
   "source": [
    "## Extra: Plotting the Donations by State\n",
    "\n",
    "* In a bit more advanced application, we can make a map of the US showing the donations by party per state.\n",
    "\n",
    "* We start by grouping per candidate and state."
   ]
  },
  {
   "cell_type": "code",
   "execution_count": 55,
   "metadata": {
    "slideshow": {
     "slide_type": "fragment"
    }
   },
   "outputs": [
    {
     "data": {
      "text/html": [
       "<div>\n",
       "<style scoped>\n",
       "    .dataframe tbody tr th:only-of-type {\n",
       "        vertical-align: middle;\n",
       "    }\n",
       "\n",
       "    .dataframe tbody tr th {\n",
       "        vertical-align: top;\n",
       "    }\n",
       "\n",
       "    .dataframe thead tr th {\n",
       "        text-align: left;\n",
       "    }\n",
       "\n",
       "    .dataframe thead tr:last-of-type th {\n",
       "        text-align: right;\n",
       "    }\n",
       "</style>\n",
       "<table border=\"1\" class=\"dataframe\">\n",
       "  <thead>\n",
       "    <tr>\n",
       "      <th></th>\n",
       "      <th colspan=\"2\" halign=\"left\">TRANSACTION_AMT</th>\n",
       "    </tr>\n",
       "    <tr>\n",
       "      <th>CAND_NAME</th>\n",
       "      <th>CLINTON, HILLARY RODHAM</th>\n",
       "      <th>TRUMP, DONALD J.</th>\n",
       "    </tr>\n",
       "    <tr>\n",
       "      <th>STATE</th>\n",
       "      <th></th>\n",
       "      <th></th>\n",
       "    </tr>\n",
       "  </thead>\n",
       "  <tbody>\n",
       "    <tr>\n",
       "      <th>AA</th>\n",
       "      <td>30091.0</td>\n",
       "      <td>448.0</td>\n",
       "    </tr>\n",
       "    <tr>\n",
       "      <th>AE</th>\n",
       "      <td>77933.0</td>\n",
       "      <td>7762.0</td>\n",
       "    </tr>\n",
       "    <tr>\n",
       "      <th>AK</th>\n",
       "      <td>334027.0</td>\n",
       "      <td>275412.0</td>\n",
       "    </tr>\n",
       "    <tr>\n",
       "      <th>AL</th>\n",
       "      <td>1164963.0</td>\n",
       "      <td>954660.0</td>\n",
       "    </tr>\n",
       "    <tr>\n",
       "      <th>AP</th>\n",
       "      <td>42416.0</td>\n",
       "      <td>2314.0</td>\n",
       "    </tr>\n",
       "    <tr>\n",
       "      <th>AR</th>\n",
       "      <td>1655301.0</td>\n",
       "      <td>423273.0</td>\n",
       "    </tr>\n",
       "    <tr>\n",
       "      <th>AS</th>\n",
       "      <td>16790.0</td>\n",
       "      <td>4200.0</td>\n",
       "    </tr>\n",
       "    <tr>\n",
       "      <th>AZ</th>\n",
       "      <td>2865839.0</td>\n",
       "      <td>1480165.0</td>\n",
       "    </tr>\n",
       "    <tr>\n",
       "      <th>CA</th>\n",
       "      <td>64387629.0</td>\n",
       "      <td>6473859.0</td>\n",
       "    </tr>\n",
       "    <tr>\n",
       "      <th>CO</th>\n",
       "      <td>6232392.0</td>\n",
       "      <td>1153929.0</td>\n",
       "    </tr>\n",
       "  </tbody>\n",
       "</table>\n",
       "</div>"
      ],
      "text/plain": [
       "                  TRANSACTION_AMT                 \n",
       "CAND_NAME CLINTON, HILLARY RODHAM TRUMP, DONALD J.\n",
       "STATE                                             \n",
       "AA                        30091.0            448.0\n",
       "AE                        77933.0           7762.0\n",
       "AK                       334027.0         275412.0\n",
       "AL                      1164963.0         954660.0\n",
       "AP                        42416.0           2314.0\n",
       "AR                      1655301.0         423273.0\n",
       "AS                        16790.0           4200.0\n",
       "AZ                      2865839.0        1480165.0\n",
       "CA                     64387629.0        6473859.0\n",
       "CO                      6232392.0        1153929.0"
      ]
     },
     "execution_count": 55,
     "metadata": {},
     "output_type": "execute_result"
    }
   ],
   "source": [
    "states_grouped = fec_trcl.groupby(['CAND_NAME', 'STATE'])\n",
    "\n",
    "states_totals = states_grouped.sum().unstack(0).fillna(0)\n",
    "\n",
    "states_totals[:10]"
   ]
  },
  {
   "cell_type": "markdown",
   "metadata": {
    "slideshow": {
     "slide_type": "slide"
    }
   },
   "source": [
    "* We'll normalize as before, so that we get percentages."
   ]
  },
  {
   "cell_type": "code",
   "execution_count": 56,
   "metadata": {
    "slideshow": {
     "slide_type": "fragment"
    }
   },
   "outputs": [
    {
     "data": {
      "text/html": [
       "<div>\n",
       "<style scoped>\n",
       "    .dataframe tbody tr th:only-of-type {\n",
       "        vertical-align: middle;\n",
       "    }\n",
       "\n",
       "    .dataframe tbody tr th {\n",
       "        vertical-align: top;\n",
       "    }\n",
       "\n",
       "    .dataframe thead tr th {\n",
       "        text-align: left;\n",
       "    }\n",
       "\n",
       "    .dataframe thead tr:last-of-type th {\n",
       "        text-align: right;\n",
       "    }\n",
       "</style>\n",
       "<table border=\"1\" class=\"dataframe\">\n",
       "  <thead>\n",
       "    <tr>\n",
       "      <th></th>\n",
       "      <th colspan=\"2\" halign=\"left\">TRANSACTION_AMT</th>\n",
       "    </tr>\n",
       "    <tr>\n",
       "      <th>CAND_NAME</th>\n",
       "      <th>CLINTON, HILLARY RODHAM</th>\n",
       "      <th>TRUMP, DONALD J.</th>\n",
       "    </tr>\n",
       "    <tr>\n",
       "      <th>STATE</th>\n",
       "      <th></th>\n",
       "      <th></th>\n",
       "    </tr>\n",
       "  </thead>\n",
       "  <tbody>\n",
       "    <tr>\n",
       "      <th>AA</th>\n",
       "      <td>0.985330</td>\n",
       "      <td>0.014670</td>\n",
       "    </tr>\n",
       "    <tr>\n",
       "      <th>AE</th>\n",
       "      <td>0.909423</td>\n",
       "      <td>0.090577</td>\n",
       "    </tr>\n",
       "    <tr>\n",
       "      <th>AK</th>\n",
       "      <td>0.548089</td>\n",
       "      <td>0.451911</td>\n",
       "    </tr>\n",
       "    <tr>\n",
       "      <th>AL</th>\n",
       "      <td>0.549609</td>\n",
       "      <td>0.450391</td>\n",
       "    </tr>\n",
       "    <tr>\n",
       "      <th>AP</th>\n",
       "      <td>0.948267</td>\n",
       "      <td>0.051733</td>\n",
       "    </tr>\n",
       "    <tr>\n",
       "      <th>AR</th>\n",
       "      <td>0.796364</td>\n",
       "      <td>0.203636</td>\n",
       "    </tr>\n",
       "    <tr>\n",
       "      <th>AS</th>\n",
       "      <td>0.799905</td>\n",
       "      <td>0.200095</td>\n",
       "    </tr>\n",
       "    <tr>\n",
       "      <th>AZ</th>\n",
       "      <td>0.659419</td>\n",
       "      <td>0.340581</td>\n",
       "    </tr>\n",
       "    <tr>\n",
       "      <th>CA</th>\n",
       "      <td>0.908641</td>\n",
       "      <td>0.091359</td>\n",
       "    </tr>\n",
       "    <tr>\n",
       "      <th>CO</th>\n",
       "      <td>0.843775</td>\n",
       "      <td>0.156225</td>\n",
       "    </tr>\n",
       "  </tbody>\n",
       "</table>\n",
       "</div>"
      ],
      "text/plain": [
       "                  TRANSACTION_AMT                 \n",
       "CAND_NAME CLINTON, HILLARY RODHAM TRUMP, DONALD J.\n",
       "STATE                                             \n",
       "AA                       0.985330         0.014670\n",
       "AE                       0.909423         0.090577\n",
       "AK                       0.548089         0.451911\n",
       "AL                       0.549609         0.450391\n",
       "AP                       0.948267         0.051733\n",
       "AR                       0.796364         0.203636\n",
       "AS                       0.799905         0.200095\n",
       "AZ                       0.659419         0.340581\n",
       "CA                       0.908641         0.091359\n",
       "CO                       0.843775         0.156225"
      ]
     },
     "execution_count": 56,
     "metadata": {},
     "output_type": "execute_result"
    }
   ],
   "source": [
    "states_norm = states_totals.div(states_totals.sum(axis=1), axis=0)\n",
    "\n",
    "states_norm[:10]"
   ]
  },
  {
   "cell_type": "markdown",
   "metadata": {
    "slideshow": {
     "slide_type": "slide"
    }
   },
   "source": [
    "* To do the actual map drawing, we'll use [cartopy](https://scitools.org.uk/cartopy/docs/latest/), a Python library for drawing on maps.\n",
    "\n",
    "* Note that in order to run the example, you will need to install cartopy following the instructions at https://scitools.org.uk/cartopy/docs/latest/installing.html#installing.\n",
    "\n",
    "* The example is adapted from:\n",
    "\n",
    "  * https://scitools.org.uk/cartopy/docs/latest/gallery/hurricane_katrina.html#sphx-glr-gallery-hurricane-katrina-py\n",
    "  \n",
    "  * https://stackoverflow.com/a/53293426\n",
    "  \n",
    "  * https://stackoverflow.com/a/55607162"
   ]
  },
  {
   "cell_type": "code",
   "execution_count": 57,
   "metadata": {
    "slideshow": {
     "slide_type": "slide"
    }
   },
   "outputs": [
    {
     "data": {
      "image/png": "[encoded data removed]",
      "text/plain": [
       "<Figure size 1152x720 with 4 Axes>"
      ]
     },
     "metadata": {},
     "output_type": "display_data"
    }
   ],
   "source": [
    "import matplotlib.pyplot as plt\n",
    "from matplotlib.colorbar import ColorbarBase\n",
    "import cartopy.crs as ccrs\n",
    "import cartopy.io.shapereader as shpreader\n",
    "\n",
    "fig = plt.figure(figsize=(16, 10))\n",
    "\n",
    "projection=ccrs.LambertConformal()\n",
    "# to get the effect of having just the states without a map \"background\"\n",
    "# turn off the background patch and axes frame\n",
    "ax = fig.add_axes([0, 0, 1, 1], projection=projection, frameon=False)\n",
    "ax.patch.set_visible(False)\n",
    "ax.set_extent([-125, -66.5, 20, 50], ccrs.Geodetic())\n",
    "\n",
    "# Hawaii\n",
    "axhi = fig.add_axes([0.25, .1, 0.15, 0.15], projection=projection)\n",
    "axhi.set_extent([-155, -165, 20, 15])\n",
    "axhi.patch.set_visible(False)\n",
    "# Alaska\n",
    "axak = fig.add_axes([0.1, 0.1, 0.2, 0.2], projection=projection)\n",
    "axak.set_extent([-185, -130, 70, 50])\n",
    "axak.patch.set_visible(False)\n",
    "\n",
    "shapename = 'admin_1_states_provinces_lakes_shp'\n",
    "states_shp = shpreader.natural_earth(resolution='110m', category='cultural', name=shapename)\n",
    "\n",
    "cmap = plt.cm.bwr_r\n",
    "\n",
    "for state in shpreader.Reader(states_shp).records():\n",
    "    postal = state.attributes['postal']\n",
    "    statistic = states_norm.loc[postal]\n",
    "    if postal == 'AK':\n",
    "        axes = axak\n",
    "    elif postal == 'HI':\n",
    "        axes = axhi\n",
    "    else:\n",
    "        axes = ax\n",
    "    axes.add_geometries([state.geometry], ccrs.PlateCarree(),\n",
    "                        facecolor=cmap(statistic)[0], \n",
    "                        edgecolor='white',\n",
    "                        linewidth=1)\n",
    "    \n",
    "ax_c = fig.add_axes([.95, 0.25, 0.03, 0.5])\n",
    "cb = ColorbarBase(ax_c, cmap=cmap, orientation='vertical',\n",
    "                  label=r'percentage of contributions per party')\n",
    "cb.set_ticks([0, .25, .5, .75, 1])\n",
    "cb.set_ticklabels(['100%', '75%', '50%', '75%', '100%'])"
   ]
  },
  {
   "cell_type": "markdown",
   "metadata": {
    "slideshow": {
     "slide_type": "slide"
    }
   },
   "source": [
    "## Extra: Plotting the Results by State\n",
    "\n",
    "* In a similar vein, we can plot the results by state.\n",
    "\n",
    "* We can get the official results in a MS-Excel sheet from https://www.fec.gov/documents/1890/federalelections2016.xlsx."
   ]
  },
  {
   "cell_type": "code",
   "execution_count": 58,
   "metadata": {
    "slideshow": {
     "slide_type": "fragment"
    }
   },
   "outputs": [],
   "source": [
    "election_results = pd.read_excel(\n",
    "    'https://www.fec.gov/documents/1890/federalelections2016.xlsx',\n",
    "    sheet_name='Table 2. Electoral &  Pop Vote',\n",
    "    skiprows=2,\n",
    "    skipfooter=7,\n",
    "    header=[0, 1])"
   ]
  },
  {
   "cell_type": "code",
   "execution_count": 59,
   "metadata": {
    "slideshow": {
     "slide_type": "slide"
    }
   },
   "outputs": [
    {
     "name": "stdout",
     "output_type": "stream",
     "text": [
      "(51, 7)\n"
     ]
    },
    {
     "data": {
      "text/html": [
       "<div>\n",
       "<style scoped>\n",
       "    .dataframe tbody tr th:only-of-type {\n",
       "        vertical-align: middle;\n",
       "    }\n",
       "\n",
       "    .dataframe tbody tr th {\n",
       "        vertical-align: top;\n",
       "    }\n",
       "\n",
       "    .dataframe thead tr th {\n",
       "        text-align: left;\n",
       "    }\n",
       "</style>\n",
       "<table border=\"1\" class=\"dataframe\">\n",
       "  <thead>\n",
       "    <tr>\n",
       "      <th></th>\n",
       "      <th>STATE</th>\n",
       "      <th colspan=\"2\" halign=\"left\">ELECTORAL VOTE</th>\n",
       "      <th colspan=\"4\" halign=\"left\">POPULAR VOTE</th>\n",
       "    </tr>\n",
       "    <tr>\n",
       "      <th></th>\n",
       "      <th>Unnamed: 0_level_1</th>\n",
       "      <th>Trump (R)</th>\n",
       "      <th>Clinton (D)</th>\n",
       "      <th>Trump (R)</th>\n",
       "      <th>Clinton (D)</th>\n",
       "      <th>All Others</th>\n",
       "      <th>Total Vote</th>\n",
       "    </tr>\n",
       "  </thead>\n",
       "  <tbody>\n",
       "    <tr>\n",
       "      <th>0</th>\n",
       "      <td>AL</td>\n",
       "      <td>9</td>\n",
       "      <td>NaN</td>\n",
       "      <td>1318255</td>\n",
       "      <td>729547</td>\n",
       "      <td>75570</td>\n",
       "      <td>2123372</td>\n",
       "    </tr>\n",
       "    <tr>\n",
       "      <th>1</th>\n",
       "      <td>AK</td>\n",
       "      <td>3</td>\n",
       "      <td>NaN</td>\n",
       "      <td>163387</td>\n",
       "      <td>116454</td>\n",
       "      <td>38767</td>\n",
       "      <td>318608</td>\n",
       "    </tr>\n",
       "    <tr>\n",
       "      <th>2</th>\n",
       "      <td>AZ</td>\n",
       "      <td>11</td>\n",
       "      <td>NaN</td>\n",
       "      <td>1252401</td>\n",
       "      <td>1161167</td>\n",
       "      <td>159597</td>\n",
       "      <td>2573165</td>\n",
       "    </tr>\n",
       "    <tr>\n",
       "      <th>3</th>\n",
       "      <td>AR</td>\n",
       "      <td>6</td>\n",
       "      <td>NaN</td>\n",
       "      <td>684872</td>\n",
       "      <td>380494</td>\n",
       "      <td>65310</td>\n",
       "      <td>1130676</td>\n",
       "    </tr>\n",
       "    <tr>\n",
       "      <th>4</th>\n",
       "      <td>CA</td>\n",
       "      <td>NaN</td>\n",
       "      <td>55</td>\n",
       "      <td>4483814</td>\n",
       "      <td>8753792</td>\n",
       "      <td>943998</td>\n",
       "      <td>14181604</td>\n",
       "    </tr>\n",
       "  </tbody>\n",
       "</table>\n",
       "</div>"
      ],
      "text/plain": [
       "               STATE ELECTORAL VOTE             POPULAR VOTE              \\\n",
       "  Unnamed: 0_level_1      Trump (R) Clinton (D)    Trump (R) Clinton (D)   \n",
       "0                 AL              9         NaN      1318255      729547   \n",
       "1                 AK              3         NaN       163387      116454   \n",
       "2                 AZ             11         NaN      1252401     1161167   \n",
       "3                 AR              6         NaN       684872      380494   \n",
       "4                 CA            NaN          55      4483814     8753792   \n",
       "\n",
       "                         \n",
       "  All Others Total Vote  \n",
       "0      75570    2123372  \n",
       "1      38767     318608  \n",
       "2     159597    2573165  \n",
       "3      65310    1130676  \n",
       "4     943998   14181604  "
      ]
     },
     "execution_count": 59,
     "metadata": {},
     "output_type": "execute_result"
    }
   ],
   "source": [
    "print(election_results.shape)\n",
    "election_results.head()"
   ]
  },
  {
   "cell_type": "markdown",
   "metadata": {
    "slideshow": {
     "slide_type": "slide"
    }
   },
   "source": [
    "* Note that in this `DataFrame`, the columns are hierarchical.\n",
    "\n",
    "* In essence, they are a `MultiIndex`."
   ]
  },
  {
   "cell_type": "code",
   "execution_count": 60,
   "metadata": {
    "slideshow": {
     "slide_type": "subslide"
    }
   },
   "outputs": [
    {
     "data": {
      "text/plain": [
       "MultiIndex([(         'STATE', 'Unnamed: 0_level_1'),\n",
       "            ('ELECTORAL VOTE',          'Trump (R)'),\n",
       "            ('ELECTORAL VOTE',        'Clinton (D)'),\n",
       "            (  'POPULAR VOTE',          'Trump (R)'),\n",
       "            (  'POPULAR VOTE',        'Clinton (D)'),\n",
       "            (  'POPULAR VOTE',         'All Others'),\n",
       "            (  'POPULAR VOTE',         'Total Vote')],\n",
       "           )"
      ]
     },
     "execution_count": 60,
     "metadata": {},
     "output_type": "execute_result"
    }
   ],
   "source": [
    "election_results.columns"
   ]
  },
  {
   "cell_type": "markdown",
   "metadata": {
    "slideshow": {
     "slide_type": "slide"
    }
   },
   "source": [
    "* As the second level of the `STATE` column has a unwieldy name, we can change it to something more convenient.\n",
    "\n",
    "* We get the second level contents; this are internally sorted, so we put them in a sorted list and change the corresponding (last) entry."
   ]
  },
  {
   "cell_type": "code",
   "execution_count": 61,
   "metadata": {
    "slideshow": {
     "slide_type": "fragment"
    }
   },
   "outputs": [
    {
     "name": "stdout",
     "output_type": "stream",
     "text": [
      "['All Others', 'Clinton (D)', 'Total Vote', 'Trump (R)', 'Unnamed: 0_level_1']\n",
      "['All Others', 'Clinton (D)', 'Total Vote', 'Trump (R)', 'Name']\n"
     ]
    }
   ],
   "source": [
    "second_col_level = sorted(set(election_results.columns.get_level_values(level=1).tolist()))\n",
    "print(second_col_level)\n",
    "second_col_level[-1] = 'Name'\n",
    "print(second_col_level)\n",
    "election_results.columns.set_levels(\n",
    "    second_col_level,\n",
    "    inplace=True,\n",
    "    level=1)"
   ]
  },
  {
   "cell_type": "markdown",
   "metadata": {
    "slideshow": {
     "slide_type": "slide"
    }
   },
   "source": [
    "* Then we get a better-looking `DataFrame` (not that it was necessary)."
   ]
  },
  {
   "cell_type": "code",
   "execution_count": 62,
   "metadata": {},
   "outputs": [
    {
     "data": {
      "text/html": [
       "<div>\n",
       "<style scoped>\n",
       "    .dataframe tbody tr th:only-of-type {\n",
       "        vertical-align: middle;\n",
       "    }\n",
       "\n",
       "    .dataframe tbody tr th {\n",
       "        vertical-align: top;\n",
       "    }\n",
       "\n",
       "    .dataframe thead tr th {\n",
       "        text-align: left;\n",
       "    }\n",
       "</style>\n",
       "<table border=\"1\" class=\"dataframe\">\n",
       "  <thead>\n",
       "    <tr>\n",
       "      <th></th>\n",
       "      <th>STATE</th>\n",
       "      <th colspan=\"2\" halign=\"left\">ELECTORAL VOTE</th>\n",
       "      <th colspan=\"4\" halign=\"left\">POPULAR VOTE</th>\n",
       "    </tr>\n",
       "    <tr>\n",
       "      <th></th>\n",
       "      <th>Name</th>\n",
       "      <th>Trump (R)</th>\n",
       "      <th>Clinton (D)</th>\n",
       "      <th>Trump (R)</th>\n",
       "      <th>Clinton (D)</th>\n",
       "      <th>All Others</th>\n",
       "      <th>Total Vote</th>\n",
       "    </tr>\n",
       "  </thead>\n",
       "  <tbody>\n",
       "    <tr>\n",
       "      <th>0</th>\n",
       "      <td>AL</td>\n",
       "      <td>9</td>\n",
       "      <td>NaN</td>\n",
       "      <td>1318255</td>\n",
       "      <td>729547</td>\n",
       "      <td>75570</td>\n",
       "      <td>2123372</td>\n",
       "    </tr>\n",
       "    <tr>\n",
       "      <th>1</th>\n",
       "      <td>AK</td>\n",
       "      <td>3</td>\n",
       "      <td>NaN</td>\n",
       "      <td>163387</td>\n",
       "      <td>116454</td>\n",
       "      <td>38767</td>\n",
       "      <td>318608</td>\n",
       "    </tr>\n",
       "    <tr>\n",
       "      <th>2</th>\n",
       "      <td>AZ</td>\n",
       "      <td>11</td>\n",
       "      <td>NaN</td>\n",
       "      <td>1252401</td>\n",
       "      <td>1161167</td>\n",
       "      <td>159597</td>\n",
       "      <td>2573165</td>\n",
       "    </tr>\n",
       "    <tr>\n",
       "      <th>3</th>\n",
       "      <td>AR</td>\n",
       "      <td>6</td>\n",
       "      <td>NaN</td>\n",
       "      <td>684872</td>\n",
       "      <td>380494</td>\n",
       "      <td>65310</td>\n",
       "      <td>1130676</td>\n",
       "    </tr>\n",
       "    <tr>\n",
       "      <th>4</th>\n",
       "      <td>CA</td>\n",
       "      <td>NaN</td>\n",
       "      <td>55</td>\n",
       "      <td>4483814</td>\n",
       "      <td>8753792</td>\n",
       "      <td>943998</td>\n",
       "      <td>14181604</td>\n",
       "    </tr>\n",
       "  </tbody>\n",
       "</table>\n",
       "</div>"
      ],
      "text/plain": [
       "  STATE ELECTORAL VOTE             POPULAR VOTE                         \\\n",
       "   Name      Trump (R) Clinton (D)    Trump (R) Clinton (D) All Others   \n",
       "0    AL              9         NaN      1318255      729547      75570   \n",
       "1    AK              3         NaN       163387      116454      38767   \n",
       "2    AZ             11         NaN      1252401     1161167     159597   \n",
       "3    AR              6         NaN       684872      380494      65310   \n",
       "4    CA            NaN          55      4483814     8753792     943998   \n",
       "\n",
       "              \n",
       "  Total Vote  \n",
       "0    2123372  \n",
       "1     318608  \n",
       "2    2573165  \n",
       "3    1130676  \n",
       "4   14181604  "
      ]
     },
     "execution_count": 62,
     "metadata": {},
     "output_type": "execute_result"
    }
   ],
   "source": [
    "election_results.head()"
   ]
  },
  {
   "cell_type": "markdown",
   "metadata": {
    "slideshow": {
     "slide_type": "slide"
    }
   },
   "source": [
    "* We want to color the map by state, so that each state gets the color of the party that won.\n",
    "\n",
    "* We'll add a column to the `DataFrame` with the color of each state."
   ]
  },
  {
   "cell_type": "code",
   "execution_count": 63,
   "metadata": {
    "slideshow": {
     "slide_type": "fragment"
    }
   },
   "outputs": [
    {
     "data": {
      "text/html": [
       "<div>\n",
       "<style scoped>\n",
       "    .dataframe tbody tr th:only-of-type {\n",
       "        vertical-align: middle;\n",
       "    }\n",
       "\n",
       "    .dataframe tbody tr th {\n",
       "        vertical-align: top;\n",
       "    }\n",
       "\n",
       "    .dataframe thead tr th {\n",
       "        text-align: left;\n",
       "    }\n",
       "</style>\n",
       "<table border=\"1\" class=\"dataframe\">\n",
       "  <thead>\n",
       "    <tr>\n",
       "      <th></th>\n",
       "      <th>STATE</th>\n",
       "      <th colspan=\"2\" halign=\"left\">ELECTORAL VOTE</th>\n",
       "      <th colspan=\"4\" halign=\"left\">POPULAR VOTE</th>\n",
       "      <th>Winning Party</th>\n",
       "    </tr>\n",
       "    <tr>\n",
       "      <th></th>\n",
       "      <th>Name</th>\n",
       "      <th>Trump (R)</th>\n",
       "      <th>Clinton (D)</th>\n",
       "      <th>Trump (R)</th>\n",
       "      <th>Clinton (D)</th>\n",
       "      <th>All Others</th>\n",
       "      <th>Total Vote</th>\n",
       "      <th></th>\n",
       "    </tr>\n",
       "  </thead>\n",
       "  <tbody>\n",
       "    <tr>\n",
       "      <th>0</th>\n",
       "      <td>AL</td>\n",
       "      <td>9</td>\n",
       "      <td>NaN</td>\n",
       "      <td>1318255</td>\n",
       "      <td>729547</td>\n",
       "      <td>75570</td>\n",
       "      <td>2123372</td>\n",
       "      <td>red</td>\n",
       "    </tr>\n",
       "    <tr>\n",
       "      <th>1</th>\n",
       "      <td>AK</td>\n",
       "      <td>3</td>\n",
       "      <td>NaN</td>\n",
       "      <td>163387</td>\n",
       "      <td>116454</td>\n",
       "      <td>38767</td>\n",
       "      <td>318608</td>\n",
       "      <td>red</td>\n",
       "    </tr>\n",
       "    <tr>\n",
       "      <th>2</th>\n",
       "      <td>AZ</td>\n",
       "      <td>11</td>\n",
       "      <td>NaN</td>\n",
       "      <td>1252401</td>\n",
       "      <td>1161167</td>\n",
       "      <td>159597</td>\n",
       "      <td>2573165</td>\n",
       "      <td>red</td>\n",
       "    </tr>\n",
       "    <tr>\n",
       "      <th>3</th>\n",
       "      <td>AR</td>\n",
       "      <td>6</td>\n",
       "      <td>NaN</td>\n",
       "      <td>684872</td>\n",
       "      <td>380494</td>\n",
       "      <td>65310</td>\n",
       "      <td>1130676</td>\n",
       "      <td>red</td>\n",
       "    </tr>\n",
       "    <tr>\n",
       "      <th>4</th>\n",
       "      <td>CA</td>\n",
       "      <td>NaN</td>\n",
       "      <td>55</td>\n",
       "      <td>4483814</td>\n",
       "      <td>8753792</td>\n",
       "      <td>943998</td>\n",
       "      <td>14181604</td>\n",
       "      <td>blue</td>\n",
       "    </tr>\n",
       "  </tbody>\n",
       "</table>\n",
       "</div>"
      ],
      "text/plain": [
       "  STATE ELECTORAL VOTE             POPULAR VOTE                         \\\n",
       "   Name      Trump (R) Clinton (D)    Trump (R) Clinton (D) All Others   \n",
       "0    AL              9         NaN      1318255      729547      75570   \n",
       "1    AK              3         NaN       163387      116454      38767   \n",
       "2    AZ             11         NaN      1252401     1161167     159597   \n",
       "3    AR              6         NaN       684872      380494      65310   \n",
       "4    CA            NaN          55      4483814     8753792     943998   \n",
       "\n",
       "             Winning Party  \n",
       "  Total Vote                \n",
       "0    2123372           red  \n",
       "1     318608           red  \n",
       "2    2573165           red  \n",
       "3    1130676           red  \n",
       "4   14181604          blue  "
      ]
     },
     "execution_count": 63,
     "metadata": {},
     "output_type": "execute_result"
    }
   ],
   "source": [
    "election_results['Winning Party'] = np.where(\n",
    "    election_results[('ELECTORAL VOTE', 'Trump (R)')].isna(), \n",
    "    'blue', \n",
    "    'red')\n",
    "election_results.head()"
   ]
  },
  {
   "cell_type": "code",
   "execution_count": 64,
   "metadata": {
    "slideshow": {
     "slide_type": "slide"
    }
   },
   "outputs": [
    {
     "data": {
      "image/png": "[encoded data removed]",
      "text/plain": [
       "<Figure size 1152x720 with 3 Axes>"
      ]
     },
     "metadata": {},
     "output_type": "display_data"
    }
   ],
   "source": [
    "import matplotlib.pyplot as plt\n",
    "from matplotlib.colorbar import ColorbarBase\n",
    "import cartopy.crs as ccrs\n",
    "import cartopy.io.shapereader as shpreader\n",
    "\n",
    "fig = plt.figure(figsize=(16, 10))\n",
    "\n",
    "projection=ccrs.LambertConformal()\n",
    "# to get the effect of having just the states without a map \"background\"\n",
    "# turn off the background patch and axes frame\n",
    "ax = fig.add_axes([0, 0, 1, 1], projection=projection, frameon=False)\n",
    "ax.patch.set_visible(False)\n",
    "# Hawaii\n",
    "axhi = fig.add_axes([0.25, .1, 0.15, 0.15], projection=projection)\n",
    "axhi.set_extent([-155, -165, 20, 15])\n",
    "axhi.patch.set_visible(False)\n",
    "# Alaska\n",
    "axak = fig.add_axes([0.1, 0.1, 0.2, 0.2], projection=projection)\n",
    "axak.set_extent([-185, -130, 70, 50])\n",
    "axak.patch.set_visible(False)\n",
    "\n",
    "ax.set_extent([-125, -66.5, 20, 50], ccrs.Geodetic())\n",
    "\n",
    "shapename = 'admin_1_states_provinces_lakes_shp'\n",
    "states_shp = shpreader.natural_earth(resolution='110m', category='cultural', name=shapename)\n",
    "\n",
    "cmap = plt.cm.bwr_r\n",
    "\n",
    "for state in shpreader.Reader(states_shp).records():\n",
    "    postal = state.attributes['postal']\n",
    "    facecolor = election_results[election_results[('STATE', 'Name')] == postal]['Winning Party'].values\n",
    "    if postal == 'AK':\n",
    "        axes = axak\n",
    "    elif postal == 'HI':\n",
    "        axes = axhi\n",
    "    else:\n",
    "        axes = ax\n",
    "    axes.add_geometries([state.geometry], \n",
    "                        ccrs.PlateCarree(),\n",
    "                        facecolor=facecolor,\n",
    "                        linewidth=1,\n",
    "                        edgecolor='white')"
   ]
  }
 ],
 "metadata": {
  "celltoolbar": "Slideshow",
  "kernelspec": {
   "display_name": "Python 3",
   "language": "python",
   "name": "python3"
  },
  "language_info": {
   "codemirror_mode": {
    "name": "ipython",
    "version": 3
   },
   "file_extension": ".py",
   "mimetype": "text/x-python",
   "name": "python",
   "nbconvert_exporter": "python",
   "pygments_lexer": "ipython3",
   "version": "3.8.6"
  }
 },
 "nbformat": 4,
 "nbformat_minor": 1
}
